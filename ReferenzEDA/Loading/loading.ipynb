{
 "cells": [
  {
   "metadata": {},
   "cell_type": "markdown",
   "source": [
    "# Laden der Daten\n",
    "In diesem Skript werden die Daten, die in der Arbeit genutzt werden geladen. Dabei werden die Tankstellen mit den Preisen kombiniert. Zudem wird gefiltert nach der Stadt Minden, die ausschließlich betrachtet werden soll und zu vollen Stunden zusammengefasst."
   ],
   "id": "94b291a3a24f5af3"
  },
  {
   "cell_type": "code",
   "id": "initial_id",
   "metadata": {
    "collapsed": true,
    "ExecuteTime": {
     "end_time": "2025-09-01T19:46:17.199750Z",
     "start_time": "2025-09-01T19:46:17.184923Z"
    }
   },
   "source": [
    "import pandas as pd\n",
    "import glob\n",
    "import json\n",
    "import numpy as np"
   ],
   "outputs": [],
   "execution_count": 12
  },
  {
   "metadata": {},
   "cell_type": "markdown",
   "source": "## Definition der Funktionen <a class=\"anchor\" id=\"chapter1\"></a>",
   "id": "a579593ee3a002ce"
  },
  {
   "metadata": {},
   "cell_type": "markdown",
   "source": [
    " Alle .csv-Dateien in dem Unterordner werden zusammengefügt\n",
    "\n",
    " Output: DataFrame allen Tankstellen in Deutschland"
   ],
   "id": "cf3e3d67c08330f6"
  },
  {
   "metadata": {
    "ExecuteTime": {
     "end_time": "2025-09-01T19:46:17.252787Z",
     "start_time": "2025-09-01T19:46:17.244519Z"
    }
   },
   "cell_type": "code",
   "source": [
    "csv_files = glob.glob('Stationen2024/**/*.csv')\n",
    "print(csv_files)"
   ],
   "id": "a85963056464f287",
   "outputs": [
    {
     "name": "stdout",
     "output_type": "stream",
     "text": [
      "['Stationen2024/03/2024-03-21-stations.csv', 'Stationen2024/03/2024-03-26-stations.csv', 'Stationen2024/03/2024-03-02-stations.csv', 'Stationen2024/03/2024-03-05-stations.csv', 'Stationen2024/03/2024-03-10-stations.csv', 'Stationen2024/03/2024-03-17-stations.csv', 'Stationen2024/03/2024-03-27-stations.csv', 'Stationen2024/03/2024-03-20-stations.csv', 'Stationen2024/03/2024-03-16-stations.csv', 'Stationen2024/03/2024-03-11-stations.csv', 'Stationen2024/03/2024-03-04-stations.csv', 'Stationen2024/03/2024-03-03-stations.csv', 'Stationen2024/03/2024-03-09-stations.csv', 'Stationen2024/03/2024-03-08-stations.csv', 'Stationen2024/03/2024-03-18-stations.csv', 'Stationen2024/03/2024-03-29-stations.csv', 'Stationen2024/03/2024-03-19-stations.csv', 'Stationen2024/03/2024-03-28-stations.csv', 'Stationen2024/03/2024-03-30-stations.csv', 'Stationen2024/03/2024-03-22-stations.csv', 'Stationen2024/03/2024-03-25-stations.csv', 'Stationen2024/03/2024-03-13-stations.csv', 'Stationen2024/03/2024-03-14-stations.csv', 'Stationen2024/03/2024-03-01-stations.csv', 'Stationen2024/03/2024-03-06-stations.csv', 'Stationen2024/03/2024-03-24-stations.csv', 'Stationen2024/03/2024-03-23-stations.csv', 'Stationen2024/03/2024-03-31-stations.csv', 'Stationen2024/03/2024-03-07-stations.csv', 'Stationen2024/03/2024-03-15-stations.csv', 'Stationen2024/03/2024-03-12-stations.csv', 'Stationen2024/04/2024-04-03-stations.csv', 'Stationen2024/04/2024-04-04-stations.csv', 'Stationen2024/04/2024-04-11-stations.csv', 'Stationen2024/04/2024-04-16-stations.csv', 'Stationen2024/04/2024-04-20-stations.csv', 'Stationen2024/04/2024-04-27-stations.csv', 'Stationen2024/04/2024-04-17-stations.csv', 'Stationen2024/04/2024-04-10-stations.csv', 'Stationen2024/04/2024-04-05-stations.csv', 'Stationen2024/04/2024-04-02-stations.csv', 'Stationen2024/04/2024-04-26-stations.csv', 'Stationen2024/04/2024-04-21-stations.csv', 'Stationen2024/04/2024-04-08-stations.csv', 'Stationen2024/04/2024-04-09-stations.csv', 'Stationen2024/04/2024-04-28-stations.csv', 'Stationen2024/04/2024-04-19-stations.csv', 'Stationen2024/04/2024-04-29-stations.csv', 'Stationen2024/04/2024-04-18-stations.csv', 'Stationen2024/04/2024-04-12-stations.csv', 'Stationen2024/04/2024-04-15-stations.csv', 'Stationen2024/04/2024-04-07-stations.csv', 'Stationen2024/04/2024-04-23-stations.csv', 'Stationen2024/04/2024-04-24-stations.csv', 'Stationen2024/04/2024-04-06-stations.csv', 'Stationen2024/04/2024-04-01-stations.csv', 'Stationen2024/04/2024-04-14-stations.csv', 'Stationen2024/04/2024-04-13-stations.csv', 'Stationen2024/04/2024-04-25-stations.csv', 'Stationen2024/04/2024-04-22-stations.csv', 'Stationen2024/04/2024-04-30-stations.csv', 'Stationen2024/05/2024-05-09-stations.csv', 'Stationen2024/05/2024-05-08-stations.csv', 'Stationen2024/05/2024-05-17-stations.csv', 'Stationen2024/05/2024-05-10-stations.csv', 'Stationen2024/05/2024-05-05-stations.csv', 'Stationen2024/05/2024-05-02-stations.csv', 'Stationen2024/05/2024-05-26-stations.csv', 'Stationen2024/05/2024-05-21-stations.csv', 'Stationen2024/05/2024-05-03-stations.csv', 'Stationen2024/05/2024-05-04-stations.csv', 'Stationen2024/05/2024-05-11-stations.csv', 'Stationen2024/05/2024-05-16-stations.csv', 'Stationen2024/05/2024-05-20-stations.csv', 'Stationen2024/05/2024-05-27-stations.csv', 'Stationen2024/05/2024-05-06-stations.csv', 'Stationen2024/05/2024-05-01-stations.csv', 'Stationen2024/05/2024-05-14-stations.csv', 'Stationen2024/05/2024-05-13-stations.csv', 'Stationen2024/05/2024-05-25-stations.csv', 'Stationen2024/05/2024-05-22-stations.csv', 'Stationen2024/05/2024-05-30-stations.csv', 'Stationen2024/05/2024-05-12-stations.csv', 'Stationen2024/05/2024-05-15-stations.csv', 'Stationen2024/05/2024-05-07-stations.csv', 'Stationen2024/05/2024-05-31-stations.csv', 'Stationen2024/05/2024-05-23-stations.csv', 'Stationen2024/05/2024-05-24-stations.csv', 'Stationen2024/05/2024-05-29-stations.csv', 'Stationen2024/05/2024-05-18-stations.csv', 'Stationen2024/05/2024-05-28-stations.csv', 'Stationen2024/05/2024-05-19-stations.csv', 'Stationen2024/02/2024-02-08-stations.csv', 'Stationen2024/02/2024-02-09-stations.csv', 'Stationen2024/02/2024-02-27-stations.csv', 'Stationen2024/02/2024-02-20-stations.csv', 'Stationen2024/02/2024-02-16-stations.csv', 'Stationen2024/02/2024-02-11-stations.csv', 'Stationen2024/02/2024-02-04-stations.csv', 'Stationen2024/02/2024-02-03-stations.csv', 'Stationen2024/02/2024-02-21-stations.csv', 'Stationen2024/02/2024-02-26-stations.csv', 'Stationen2024/02/2024-02-02-stations.csv', 'Stationen2024/02/2024-02-05-stations.csv', 'Stationen2024/02/2024-02-10-stations.csv', 'Stationen2024/02/2024-02-17-stations.csv', 'Stationen2024/02/2024-02-24-stations.csv', 'Stationen2024/02/2024-02-23-stations.csv', 'Stationen2024/02/2024-02-07-stations.csv', 'Stationen2024/02/2024-02-15-stations.csv', 'Stationen2024/02/2024-02-12-stations.csv', 'Stationen2024/02/2024-02-22-stations.csv', 'Stationen2024/02/2024-02-25-stations.csv', 'Stationen2024/02/2024-02-13-stations.csv', 'Stationen2024/02/2024-02-14-stations.csv', 'Stationen2024/02/2024-02-01-stations.csv', 'Stationen2024/02/2024-02-06-stations.csv', 'Stationen2024/02/2024-02-19-stations.csv', 'Stationen2024/02/2024-02-28-stations.csv', 'Stationen2024/02/2024-02-18-stations.csv', 'Stationen2024/02/2024-02-29-stations.csv', 'Stationen2024/11/2024-11-18-stations.csv', 'Stationen2024/11/2024-11-29-stations.csv', 'Stationen2024/11/2024-11-19-stations.csv', 'Stationen2024/11/2024-11-28-stations.csv', 'Stationen2024/11/2024-11-30-stations.csv', 'Stationen2024/11/2024-11-25-stations.csv', 'Stationen2024/11/2024-11-22-stations.csv', 'Stationen2024/11/2024-11-14-stations.csv', 'Stationen2024/11/2024-11-13-stations.csv', 'Stationen2024/11/2024-11-06-stations.csv', 'Stationen2024/11/2024-11-01-stations.csv', 'Stationen2024/11/2024-11-23-stations.csv', 'Stationen2024/11/2024-11-24-stations.csv', 'Stationen2024/11/2024-11-07-stations.csv', 'Stationen2024/11/2024-11-12-stations.csv', 'Stationen2024/11/2024-11-15-stations.csv', 'Stationen2024/11/2024-11-26-stations.csv', 'Stationen2024/11/2024-11-21-stations.csv', 'Stationen2024/11/2024-11-05-stations.csv', 'Stationen2024/11/2024-11-02-stations.csv', 'Stationen2024/11/2024-11-17-stations.csv', 'Stationen2024/11/2024-11-10-stations.csv', 'Stationen2024/11/2024-11-20-stations.csv', 'Stationen2024/11/2024-11-27-stations.csv', 'Stationen2024/11/2024-11-11-stations.csv', 'Stationen2024/11/2024-11-16-stations.csv', 'Stationen2024/11/2024-11-03-stations.csv', 'Stationen2024/11/2024-11-04-stations.csv', 'Stationen2024/11/2024-11-09-stations.csv', 'Stationen2024/11/2024-11-08-stations.csv', 'Stationen2024/10/2024-10-23-stations.csv', 'Stationen2024/10/2024-10-24-stations.csv', 'Stationen2024/10/2024-10-31-stations.csv', 'Stationen2024/10/2024-10-07-stations.csv', 'Stationen2024/10/2024-10-12-stations.csv', 'Stationen2024/10/2024-10-15-stations.csv', 'Stationen2024/10/2024-10-30-stations.csv', 'Stationen2024/10/2024-10-25-stations.csv', 'Stationen2024/10/2024-10-22-stations.csv', 'Stationen2024/10/2024-10-14-stations.csv', 'Stationen2024/10/2024-10-13-stations.csv', 'Stationen2024/10/2024-10-06-stations.csv', 'Stationen2024/10/2024-10-01-stations.csv', 'Stationen2024/10/2024-10-19-stations.csv', 'Stationen2024/10/2024-10-28-stations.csv', 'Stationen2024/10/2024-10-18-stations.csv', 'Stationen2024/10/2024-10-29-stations.csv', 'Stationen2024/10/2024-10-08-stations.csv', 'Stationen2024/10/2024-10-09-stations.csv', 'Stationen2024/10/2024-10-20-stations.csv', 'Stationen2024/10/2024-10-27-stations.csv', 'Stationen2024/10/2024-10-11-stations.csv', 'Stationen2024/10/2024-10-16-stations.csv', 'Stationen2024/10/2024-10-03-stations.csv', 'Stationen2024/10/2024-10-04-stations.csv', 'Stationen2024/10/2024-10-26-stations.csv', 'Stationen2024/10/2024-10-21-stations.csv', 'Stationen2024/10/2024-10-05-stations.csv', 'Stationen2024/10/2024-10-02-stations.csv', 'Stationen2024/10/2024-10-17-stations.csv', 'Stationen2024/10/2024-10-10-stations.csv', 'Stationen2024/07/2024-07-29-stations.csv', 'Stationen2024/07/2024-07-18-stations.csv', 'Stationen2024/07/2024-07-28-stations.csv', 'Stationen2024/07/2024-07-19-stations.csv', 'Stationen2024/07/2024-07-14-stations.csv', 'Stationen2024/07/2024-07-13-stations.csv', 'Stationen2024/07/2024-07-06-stations.csv', 'Stationen2024/07/2024-07-01-stations.csv', 'Stationen2024/07/2024-07-30-stations.csv', 'Stationen2024/07/2024-07-25-stations.csv', 'Stationen2024/07/2024-07-22-stations.csv', 'Stationen2024/07/2024-07-07-stations.csv', 'Stationen2024/07/2024-07-12-stations.csv', 'Stationen2024/07/2024-07-15-stations.csv', 'Stationen2024/07/2024-07-23-stations.csv', 'Stationen2024/07/2024-07-24-stations.csv', 'Stationen2024/07/2024-07-31-stations.csv', 'Stationen2024/07/2024-07-05-stations.csv', 'Stationen2024/07/2024-07-02-stations.csv', 'Stationen2024/07/2024-07-17-stations.csv', 'Stationen2024/07/2024-07-10-stations.csv', 'Stationen2024/07/2024-07-26-stations.csv', 'Stationen2024/07/2024-07-21-stations.csv', 'Stationen2024/07/2024-07-11-stations.csv', 'Stationen2024/07/2024-07-16-stations.csv', 'Stationen2024/07/2024-07-03-stations.csv', 'Stationen2024/07/2024-07-04-stations.csv', 'Stationen2024/07/2024-07-20-stations.csv', 'Stationen2024/07/2024-07-27-stations.csv', 'Stationen2024/07/2024-07-09-stations.csv', 'Stationen2024/07/2024-07-08-stations.csv', 'Stationen2024/09/2024-09-24-stations.csv', 'Stationen2024/09/2024-09-23-stations.csv', 'Stationen2024/09/2024-09-15-stations.csv', 'Stationen2024/09/2024-09-12-stations.csv', 'Stationen2024/09/2024-09-07-stations.csv', 'Stationen2024/09/2024-09-22-stations.csv', 'Stationen2024/09/2024-09-25-stations.csv', 'Stationen2024/09/2024-09-30-stations.csv', 'Stationen2024/09/2024-09-01-stations.csv', 'Stationen2024/09/2024-09-06-stations.csv', 'Stationen2024/09/2024-09-13-stations.csv', 'Stationen2024/09/2024-09-14-stations.csv', 'Stationen2024/09/2024-09-19-stations.csv', 'Stationen2024/09/2024-09-28-stations.csv', 'Stationen2024/09/2024-09-18-stations.csv', 'Stationen2024/09/2024-09-29-stations.csv', 'Stationen2024/09/2024-09-08-stations.csv', 'Stationen2024/09/2024-09-09-stations.csv', 'Stationen2024/09/2024-09-27-stations.csv', 'Stationen2024/09/2024-09-20-stations.csv', 'Stationen2024/09/2024-09-04-stations.csv', 'Stationen2024/09/2024-09-03-stations.csv', 'Stationen2024/09/2024-09-16-stations.csv', 'Stationen2024/09/2024-09-11-stations.csv', 'Stationen2024/09/2024-09-21-stations.csv', 'Stationen2024/09/2024-09-26-stations.csv', 'Stationen2024/09/2024-09-10-stations.csv', 'Stationen2024/09/2024-09-17-stations.csv', 'Stationen2024/09/2024-09-02-stations.csv', 'Stationen2024/09/2024-09-05-stations.csv', 'Stationen2024/08/2024-08-18-stations.csv', 'Stationen2024/08/2024-08-29-stations.csv', 'Stationen2024/08/2024-08-19-stations.csv', 'Stationen2024/08/2024-08-28-stations.csv', 'Stationen2024/08/2024-08-22-stations.csv', 'Stationen2024/08/2024-08-25-stations.csv', 'Stationen2024/08/2024-08-30-stations.csv', 'Stationen2024/08/2024-08-01-stations.csv', 'Stationen2024/08/2024-08-06-stations.csv', 'Stationen2024/08/2024-08-13-stations.csv', 'Stationen2024/08/2024-08-14-stations.csv', 'Stationen2024/08/2024-08-31-stations.csv', 'Stationen2024/08/2024-08-24-stations.csv', 'Stationen2024/08/2024-08-23-stations.csv', 'Stationen2024/08/2024-08-15-stations.csv', 'Stationen2024/08/2024-08-12-stations.csv', 'Stationen2024/08/2024-08-07-stations.csv', 'Stationen2024/08/2024-08-21-stations.csv', 'Stationen2024/08/2024-08-26-stations.csv', 'Stationen2024/08/2024-08-10-stations.csv', 'Stationen2024/08/2024-08-17-stations.csv', 'Stationen2024/08/2024-08-02-stations.csv', 'Stationen2024/08/2024-08-05-stations.csv', 'Stationen2024/08/2024-08-27-stations.csv', 'Stationen2024/08/2024-08-20-stations.csv', 'Stationen2024/08/2024-08-04-stations.csv', 'Stationen2024/08/2024-08-03-stations.csv', 'Stationen2024/08/2024-08-16-stations.csv', 'Stationen2024/08/2024-08-11-stations.csv', 'Stationen2024/08/2024-08-09-stations.csv', 'Stationen2024/08/2024-08-08-stations.csv', 'Stationen2024/01/2024-01-22-stations.csv', 'Stationen2024/01/2024-01-25-stations.csv', 'Stationen2024/01/2024-01-30-stations.csv', 'Stationen2024/01/2024-01-01-stations.csv', 'Stationen2024/01/2024-01-06-stations.csv', 'Stationen2024/01/2024-01-13-stations.csv', 'Stationen2024/01/2024-01-14-stations.csv', 'Stationen2024/01/2024-01-31-stations.csv', 'Stationen2024/01/2024-01-24-stations.csv', 'Stationen2024/01/2024-01-23-stations.csv', 'Stationen2024/01/2024-01-15-stations.csv', 'Stationen2024/01/2024-01-12-stations.csv', 'Stationen2024/01/2024-01-07-stations.csv', 'Stationen2024/01/2024-01-18-stations.csv', 'Stationen2024/01/2024-01-29-stations.csv', 'Stationen2024/01/2024-01-19-stations.csv', 'Stationen2024/01/2024-01-28-stations.csv', 'Stationen2024/01/2024-01-09-stations.csv', 'Stationen2024/01/2024-01-08-stations.csv', 'Stationen2024/01/2024-01-21-stations.csv', 'Stationen2024/01/2024-01-26-stations.csv', 'Stationen2024/01/2024-01-10-stations.csv', 'Stationen2024/01/2024-01-17-stations.csv', 'Stationen2024/01/2024-01-02-stations.csv', 'Stationen2024/01/2024-01-05-stations.csv', 'Stationen2024/01/2024-01-27-stations.csv', 'Stationen2024/01/2024-01-20-stations.csv', 'Stationen2024/01/2024-01-04-stations.csv', 'Stationen2024/01/2024-01-03-stations.csv', 'Stationen2024/01/2024-01-16-stations.csv', 'Stationen2024/01/2024-01-11-stations.csv', 'Stationen2024/06/2024-06-07-stations.csv', 'Stationen2024/06/2024-06-12-stations.csv', 'Stationen2024/06/2024-06-15-stations.csv', 'Stationen2024/06/2024-06-23-stations.csv', 'Stationen2024/06/2024-06-24-stations.csv', 'Stationen2024/06/2024-06-14-stations.csv', 'Stationen2024/06/2024-06-13-stations.csv', 'Stationen2024/06/2024-06-06-stations.csv', 'Stationen2024/06/2024-06-01-stations.csv', 'Stationen2024/06/2024-06-30-stations.csv', 'Stationen2024/06/2024-06-25-stations.csv', 'Stationen2024/06/2024-06-22-stations.csv', 'Stationen2024/06/2024-06-28-stations.csv', 'Stationen2024/06/2024-06-19-stations.csv', 'Stationen2024/06/2024-06-29-stations.csv', 'Stationen2024/06/2024-06-18-stations.csv', 'Stationen2024/06/2024-06-08-stations.csv', 'Stationen2024/06/2024-06-09-stations.csv', 'Stationen2024/06/2024-06-11-stations.csv', 'Stationen2024/06/2024-06-16-stations.csv', 'Stationen2024/06/2024-06-03-stations.csv', 'Stationen2024/06/2024-06-04-stations.csv', 'Stationen2024/06/2024-06-20-stations.csv', 'Stationen2024/06/2024-06-27-stations.csv', 'Stationen2024/06/2024-06-05-stations.csv', 'Stationen2024/06/2024-06-02-stations.csv', 'Stationen2024/06/2024-06-17-stations.csv', 'Stationen2024/06/2024-06-10-stations.csv', 'Stationen2024/06/2024-06-26-stations.csv', 'Stationen2024/06/2024-06-21-stations.csv', 'Stationen2024/12/2024-12-20-stations.csv', 'Stationen2024/12/2024-12-27-stations.csv', 'Stationen2024/12/2024-12-03-stations.csv', 'Stationen2024/12/2024-12-04-stations.csv', 'Stationen2024/12/2024-12-11-stations.csv', 'Stationen2024/12/2024-12-16-stations.csv', 'Stationen2024/12/2024-12-26-stations.csv', 'Stationen2024/12/2024-12-21-stations.csv', 'Stationen2024/12/2024-12-17-stations.csv', 'Stationen2024/12/2024-12-10-stations.csv', 'Stationen2024/12/2024-12-05-stations.csv', 'Stationen2024/12/2024-12-02-stations.csv', 'Stationen2024/12/2024-12-08-stations.csv', 'Stationen2024/12/2024-12-09-stations.csv', 'Stationen2024/12/2024-12-19-stations.csv', 'Stationen2024/12/2024-12-28-stations.csv', 'Stationen2024/12/2024-12-18-stations.csv', 'Stationen2024/12/2024-12-29-stations.csv', 'Stationen2024/12/2024-12-31-stations.csv', 'Stationen2024/12/2024-12-23-stations.csv', 'Stationen2024/12/2024-12-24-stations.csv', 'Stationen2024/12/2024-12-12-stations.csv', 'Stationen2024/12/2024-12-15-stations.csv', 'Stationen2024/12/2024-12-07-stations.csv', 'Stationen2024/12/2024-12-25-stations.csv', 'Stationen2024/12/2024-12-22-stations.csv', 'Stationen2024/12/2024-12-30-stations.csv', 'Stationen2024/12/2024-12-06-stations.csv', 'Stationen2024/12/2024-12-01-stations.csv', 'Stationen2024/12/2024-12-14-stations.csv', 'Stationen2024/12/2024-12-13-stations.csv']\n"
     ]
    }
   ],
   "execution_count": 13
  },
  {
   "metadata": {
    "ExecuteTime": {
     "end_time": "2025-09-01T19:46:17.282891Z",
     "start_time": "2025-09-01T19:46:17.278643Z"
    }
   },
   "cell_type": "code",
   "source": [
    "def laden_Stationen():\n",
    "    csv_files = glob.glob('Stationen2024/**/*.csv')\n",
    "    combined_df = pd.DataFrame()\n",
    "    for csv_file in csv_files:\n",
    "        df = pd.read_csv(csv_file)\n",
    "        combined_df = pd.concat([combined_df, df])\n",
    "        combined_df = combined_df.drop_duplicates().reset_index(drop=True)\n",
    "    return combined_df"
   ],
   "id": "b09fc9e694780c5a",
   "outputs": [],
   "execution_count": 14
  },
  {
   "metadata": {},
   "cell_type": "markdown",
   "source": [
    "Extrahieren aller Tankstellen einer Stadt aus allen Tankstellen in Deutschland\n",
    "\n",
    "Input: Name der Stadt, DataFrame mit allen Tankstellen\n",
    "\n",
    "Output: DataFrame mit Tankstellen einer Stadt"
   ],
   "id": "b87ddd70c27c4c99"
  },
  {
   "metadata": {
    "ExecuteTime": {
     "end_time": "2025-09-01T19:46:17.302502Z",
     "start_time": "2025-09-01T19:46:17.298218Z"
    }
   },
   "cell_type": "code",
   "source": [
    "def extract_Stadt_Station(Stadt, df):\n",
    "    dfStadt = df[df['city'] == Stadt]\n",
    "    dfStadt = dfStadt.drop_duplicates(subset='uuid')\n",
    "    dfStadt = dfStadt.rename(columns={'uuid': 'station_uuid'})\n",
    "    return dfStadt"
   ],
   "id": "d9e3db040c8ee4d8",
   "outputs": [],
   "execution_count": 15
  },
  {
   "metadata": {},
   "cell_type": "markdown",
   "source": [
    "Generieren einer Liste aus den Tankstellen ID\n",
    "\n",
    "Input: DataFrame mit den Tankstellen, Spaltenname mit der ID\n",
    "\n",
    "Output: Liste mit den IDs der Tankstellen"
   ],
   "id": "3a961345b5f6dc41"
  },
  {
   "metadata": {
    "ExecuteTime": {
     "end_time": "2025-09-01T19:46:17.327697Z",
     "start_time": "2025-09-01T19:46:17.321903Z"
    }
   },
   "cell_type": "code",
   "source": [
    "def get_Liste_StationID(df, id):\n",
    "    df.drop_duplicates(subset=id)\n",
    "    list = df[id]\n",
    "    return list"
   ],
   "id": "cdbacf3132229329",
   "outputs": [],
   "execution_count": 16
  },
  {
   "metadata": {},
   "cell_type": "markdown",
   "source": [
    "Alle .csv-Dateien in dem Unterordner werden zusammengefügt und nach ID-Liste sortiert\n",
    "\n",
    "Output: DataFrame allen Tankstellen in Deutschland"
   ],
   "id": "f8d237a411bf7698"
  },
  {
   "metadata": {
    "ExecuteTime": {
     "end_time": "2025-09-01T19:46:17.346168Z",
     "start_time": "2025-09-01T19:46:17.340428Z"
    }
   },
   "cell_type": "code",
   "source": [
    "\n",
    "def laden_Preise(ID):\n",
    "    csv_files = glob.glob('Preise2024/**/*.csv')\n",
    "    combined_df = pd.DataFrame()\n",
    "    for csv_file in csv_files:\n",
    "        df = pd.read_csv(csv_file)\n",
    "        df = df[df['station_uuid'].isin(ID)]\n",
    "        combined_df = pd.concat([combined_df, df])\n",
    "        combined_df = combined_df.drop_duplicates().reset_index(drop=True)\n",
    "    return combined_df"
   ],
   "id": "4dd3842ca7795838",
   "outputs": [],
   "execution_count": 17
  },
  {
   "metadata": {},
   "cell_type": "markdown",
   "source": [
    "Gruppierung nach Preisänderungen nach dem Mittelwert der Stunden\n",
    "\n",
    "Input: Zusammengefügter DataFrame Preis und Tankstellen\n",
    "\n",
    "Output: DataFrame mit gruppierten Stunden"
   ],
   "id": "39fabb15d636f54c"
  },
  {
   "metadata": {
    "ExecuteTime": {
     "end_time": "2025-09-01T19:46:17.372263Z",
     "start_time": "2025-09-01T19:46:17.366825Z"
    }
   },
   "cell_type": "code",
   "source": [
    "def gruppieren_Stunden(df):\n",
    "    df_meta = df[['station_uuid', 'brand', 'city', 'street', 'house_number', 'name', 'post_code', 'latitude',\n",
    "                  'longitude', 'first_active', 'openingtimes_json']].drop_duplicates()\n",
    "    df['date'] = pd.to_datetime(df['date'], errors='coerce', utc=True)\n",
    "    df = df.dropna(subset=['date'])\n",
    "    df['hour'] = df['date'].dt.floor('H')\n",
    "    df_hourly = df.groupby(['station_uuid', 'hour'])[['diesel', 'e5', 'e10', 'dieselchange', 'e5change', 'e10change']].mean().reset_index()\n",
    "    df_hourly = pd.merge(df_hourly, df_meta, on='station_uuid', how='left')\n",
    "    return df_hourly"
   ],
   "id": "fd9441eb7550b205",
   "outputs": [],
   "execution_count": 18
  },
  {
   "metadata": {},
   "cell_type": "markdown",
   "source": "## Ausführung <a id=\"chapter2\"></a>",
   "id": "ee1adc6db42950"
  },
  {
   "metadata": {
    "ExecuteTime": {
     "end_time": "2025-09-01T19:48:30.670032Z",
     "start_time": "2025-09-01T19:46:17.396772Z"
    }
   },
   "cell_type": "code",
   "source": [
    "dfStation = extract_Stadt_Station('Minden', laden_Stationen())\n",
    "listStationID = get_Liste_StationID(dfStation, 'station_uuid')\n",
    "dfPreise = laden_Preise(listStationID)\n",
    "dfStationPreise = pd.merge(dfStation, dfPreise, on='station_uuid', how='inner')\n",
    "dfStationPreise = gruppieren_Stunden(dfStationPreise)\n",
    "#dfStationPreise.to_csv('df_PreiseStationen.csv')"
   ],
   "id": "27bd0b665d360c15",
   "outputs": [
    {
     "name": "stderr",
     "output_type": "stream",
     "text": [
      "/var/folders/_9/fyqnr96j0q7_tlytmj22wy8c0000gn/T/ipykernel_83299/1044408052.py:6: FutureWarning: 'H' is deprecated and will be removed in a future version, please use 'h' instead.\n",
      "  df['hour'] = df['date'].dt.floor('H')\n"
     ]
    }
   ],
   "execution_count": 19
  },
  {
   "metadata": {},
   "cell_type": "markdown",
   "source": "# Weitere Verarbeitung",
   "id": "a8a0a977f73ae50"
  },
  {
   "metadata": {
    "ExecuteTime": {
     "end_time": "2025-09-01T19:48:30.786519Z",
     "start_time": "2025-09-01T19:48:30.725527Z"
    }
   },
   "cell_type": "code",
   "source": [
    "# Neue Spalte mit Datum\n",
    "dfStationPreise['date'] = dfStationPreise['hour']\n",
    "dfStationPreise[\"date\"] = pd.to_datetime(dfStationPreise[\"hour\"], errors=\"coerce\")\n",
    "# Wochentagen aus den Daten\n",
    "dfStationPreise[\"weekday\"] = dfStationPreise[\"date\"].dt.day_name()\n",
    "dfStationPreise[\"date\"] = dfStationPreise[\"date\"].dt.date\n",
    "# Hour mit ausschließlich der Uhrzeit\n",
    "dfStationPreise[\"hour\"] = pd.to_datetime(dfStationPreise[\"hour\"], errors=\"coerce\")\n",
    "dfStationPreise[\"hour\"] = dfStationPreise[\"hour\"].dt.time\n",
    "\n",
    "# Change auf volle Stunden runden, sodass eine Änderung angezeigt werden kann\n",
    "dfStationPreise['dieselchange'] = np.ceil(dfStationPreise['dieselchange'])\n",
    "dfStationPreise['e5change'] = np.ceil(dfStationPreise['e5change'])\n",
    "dfStationPreise['e10change'] = np.ceil(dfStationPreise['e10change'])"
   ],
   "id": "6912ca7effc0bba",
   "outputs": [],
   "execution_count": 20
  },
  {
   "metadata": {
    "ExecuteTime": {
     "end_time": "2025-09-01T19:48:34.879459Z",
     "start_time": "2025-09-01T19:48:30.806739Z"
    }
   },
   "cell_type": "code",
   "source": [
    "# Quelle: https://docs.python.org/3/library/json.html\n",
    "# Extrahieren der Öffnungszeiten im JSON Format, neue Spalten für die Öffnung und das Schließen der Tankstelle\n",
    "day_bit_values = {'Monday': 1,'Tuesday': 2,'Wednesday': 4,'Thursday': 8,'Friday': 16,'Saturday': 32,'Sunday': 64}\n",
    "holiday_bit_value = 128\n",
    "\n",
    "# Gesetzliche Feiertage in Minden\n",
    "all_public_holidays = {\n",
    "    '2023-12-25', '2023-12-26', '2024-01-01', '2024-03-29', '2024-04-01', '2024-05-01', '2024-05-09', '2024-05-20', '2024-05-30', '2024-10-03', '2024-11-01', '2024-12-25', '2024-12-26'}\n",
    "\n",
    "def decode_opening_times(row):\n",
    "    date_str = row['date']\n",
    "    weekday_str = row['weekday']\n",
    "    opening_times_json = row['openingtimes_json']\n",
    "    start_time, end_time = None, None\n",
    "    is_holiday = date_str in all_public_holidays\n",
    "    current_day_bit = holiday_bit_value if is_holiday else day_bit_values.get(weekday_str)\n",
    "    if current_day_bit is None:\n",
    "        return pd.Series([start_time, end_time], index=['start_time', 'end_time'])\n",
    "    try:\n",
    "        opening_times_data = json.loads(opening_times_json)\n",
    "        for rule in opening_times_data.get('openingTimes', []):\n",
    "            if (rule.get('applicable_days', 0) & current_day_bit) == current_day_bit:\n",
    "                periods = rule.get('periods')\n",
    "                if periods:\n",
    "                    start_time = periods[0].get('startp')\n",
    "                    end_time = periods[0].get('endp')\n",
    "                    break\n",
    "    except (json.JSONDecodeError, TypeError, AttributeError):\n",
    "        pass\n",
    "    return pd.Series([start_time, end_time], index=['start_time', 'end_time'])\n",
    "\n",
    "dfStationPreise[['start_time', 'end_time']] = dfStationPreise.apply(decode_opening_times, axis=1)"
   ],
   "id": "d9e55c5a1c120804",
   "outputs": [],
   "execution_count": 21
  },
  {
   "metadata": {},
   "cell_type": "markdown",
   "source": "## Ergebniss <a id=\"chapter3\"></a>",
   "id": "db47b2013004ae1"
  },
  {
   "metadata": {
    "ExecuteTime": {
     "end_time": "2025-09-01T19:48:35.521047Z",
     "start_time": "2025-09-01T19:48:34.892290Z"
    }
   },
   "cell_type": "code",
   "source": [
    "print(dfStationPreise.info())\n",
    "print(dfStationPreise.head())\n",
    "dfStationPreise.to_csv('df_PreiseStationen.csv')"
   ],
   "id": "45d8f26cd7d919a3",
   "outputs": [
    {
     "name": "stdout",
     "output_type": "stream",
     "text": [
      "<class 'pandas.core.frame.DataFrame'>\n",
      "RangeIndex: 73589 entries, 0 to 73588\n",
      "Data columns (total 22 columns):\n",
      " #   Column             Non-Null Count  Dtype  \n",
      "---  ------             --------------  -----  \n",
      " 0   station_uuid       73589 non-null  object \n",
      " 1   hour               73589 non-null  object \n",
      " 2   diesel             73589 non-null  float64\n",
      " 3   e5                 73589 non-null  float64\n",
      " 4   e10                73589 non-null  float64\n",
      " 5   dieselchange       73589 non-null  float64\n",
      " 6   e5change           73589 non-null  float64\n",
      " 7   e10change          73589 non-null  float64\n",
      " 8   brand              68097 non-null  object \n",
      " 9   city               73589 non-null  object \n",
      " 10  street             73589 non-null  object \n",
      " 11  house_number       67120 non-null  object \n",
      " 12  name               73589 non-null  object \n",
      " 13  post_code          73589 non-null  object \n",
      " 14  latitude           73589 non-null  float64\n",
      " 15  longitude          73589 non-null  float64\n",
      " 16  first_active       73589 non-null  object \n",
      " 17  openingtimes_json  73589 non-null  object \n",
      " 18  date               73589 non-null  object \n",
      " 19  weekday            73589 non-null  object \n",
      " 20  start_time         43512 non-null  object \n",
      " 21  end_time           43512 non-null  object \n",
      "dtypes: float64(8), object(14)\n",
      "memory usage: 12.4+ MB\n",
      "None\n",
      "                           station_uuid      hour  diesel     e5    e10  \\\n",
      "0  005056ba-7cb6-1ed2-bceb-519b93268d12  23:00:00   1.699  1.769  1.709   \n",
      "1  005056ba-7cb6-1ed2-bceb-519b93268d12  05:00:00   1.769  1.849  1.789   \n",
      "2  005056ba-7cb6-1ed2-bceb-519b93268d12  06:00:00   1.759  1.839  1.779   \n",
      "3  005056ba-7cb6-1ed2-bceb-519b93268d12  07:00:00   1.734  1.794  1.734   \n",
      "4  005056ba-7cb6-1ed2-bceb-519b93268d12  08:00:00   1.744  1.804  1.744   \n",
      "\n",
      "   dieselchange  e5change  e10change  brand    city  ...              name  \\\n",
      "0           1.0       1.0        1.0  ORLEN  Minden  ...  ORLEN Tankstelle   \n",
      "1           1.0       1.0        1.0  ORLEN  Minden  ...  ORLEN Tankstelle   \n",
      "2           1.0       1.0        1.0  ORLEN  Minden  ...  ORLEN Tankstelle   \n",
      "3           1.0       1.0        1.0  ORLEN  Minden  ...  ORLEN Tankstelle   \n",
      "4           1.0       1.0        1.0  ORLEN  Minden  ...  ORLEN Tankstelle   \n",
      "\n",
      "  post_code   latitude longitude            first_active  \\\n",
      "0     32427  52.288749  8.898652  2014-03-18 16:45:31+01   \n",
      "1     32427  52.288749  8.898652  2014-03-18 16:45:31+01   \n",
      "2     32427  52.288749  8.898652  2014-03-18 16:45:31+01   \n",
      "3     32427  52.288749  8.898652  2014-03-18 16:45:31+01   \n",
      "4     32427  52.288749  8.898652  2014-03-18 16:45:31+01   \n",
      "\n",
      "                                   openingtimes_json        date weekday  \\\n",
      "0  {\"openingTimes\":[{\"applicable_days\":31,\"period...  2023-12-31  Sunday   \n",
      "1  {\"openingTimes\":[{\"applicable_days\":31,\"period...  2024-01-01  Monday   \n",
      "2  {\"openingTimes\":[{\"applicable_days\":31,\"period...  2024-01-01  Monday   \n",
      "3  {\"openingTimes\":[{\"applicable_days\":31,\"period...  2024-01-01  Monday   \n",
      "4  {\"openingTimes\":[{\"applicable_days\":31,\"period...  2024-01-01  Monday   \n",
      "\n",
      "  start_time end_time  \n",
      "0      08:00    23:00  \n",
      "1      06:00    23:00  \n",
      "2      06:00    23:00  \n",
      "3      06:00    23:00  \n",
      "4      06:00    23:00  \n",
      "\n",
      "[5 rows x 22 columns]\n"
     ]
    }
   ],
   "execution_count": 22
  }
 ],
 "metadata": {
  "kernelspec": {
   "display_name": "Python 3",
   "language": "python",
   "name": "python3"
  },
  "language_info": {
   "codemirror_mode": {
    "name": "ipython",
    "version": 2
   },
   "file_extension": ".py",
   "mimetype": "text/x-python",
   "name": "python",
   "nbconvert_exporter": "python",
   "pygments_lexer": "ipython2",
   "version": "2.7.6"
  }
 },
 "nbformat": 4,
 "nbformat_minor": 5
}
