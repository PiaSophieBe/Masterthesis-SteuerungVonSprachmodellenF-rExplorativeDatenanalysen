{
 "cells": [
  {
   "metadata": {},
   "cell_type": "markdown",
   "source": "# Betrachtung der einzelnen Merkmale",
   "id": "c0f8287aa3a0008d"
  },
  {
   "metadata": {},
   "cell_type": "markdown",
   "source": "## Laden",
   "id": "bebb62b7a2cc851d"
  },
  {
   "metadata": {},
   "cell_type": "markdown",
   "source": "Laden der Bibliotheken",
   "id": "8e87e3382684200a"
  },
  {
   "cell_type": "code",
   "id": "initial_id",
   "metadata": {
    "collapsed": true,
    "ExecuteTime": {
     "end_time": "2025-09-01T14:52:00.500184Z",
     "start_time": "2025-09-01T14:52:00.472352Z"
    }
   },
   "source": [
    "import pandas as pd\n",
    "import matplotlib.pyplot as plt\n",
    "import seaborn as sns\n",
    "import matplotlib.dates as mdates"
   ],
   "outputs": [],
   "execution_count": 50
  },
  {
   "metadata": {},
   "cell_type": "markdown",
   "source": "Laden der Daten",
   "id": "aa25cc13d6355b7b"
  },
  {
   "metadata": {
    "ExecuteTime": {
     "end_time": "2025-09-01T14:52:00.815723Z",
     "start_time": "2025-09-01T14:52:00.580635Z"
    }
   },
   "cell_type": "code",
   "source": "df = pd.read_csv('../Loading/df_PreiseStationen.csv')",
   "id": "8e1e700ae1ef9288",
   "outputs": [
    {
     "name": "stderr",
     "output_type": "stream",
     "text": [
      "/var/folders/_9/fyqnr96j0q7_tlytmj22wy8c0000gn/T/ipykernel_77779/2813724428.py:1: DtypeWarning: Columns (12) have mixed types. Specify dtype option on import or set low_memory=False.\n",
      "  df = pd.read_csv('../Loading/df_PreiseStationen.csv')\n"
     ]
    }
   ],
   "execution_count": 51
  },
  {
   "metadata": {},
   "cell_type": "markdown",
   "source": "## Erster Überblick",
   "id": "15f86cef201f0f86"
  },
  {
   "metadata": {
    "ExecuteTime": {
     "end_time": "2025-09-01T14:52:00.847953Z",
     "start_time": "2025-09-01T14:52:00.836996Z"
    }
   },
   "cell_type": "code",
   "source": "df.head()",
   "id": "89bf5071012b3706",
   "outputs": [
    {
     "data": {
      "text/plain": [
       "   Unnamed: 0                          station_uuid      hour  diesel     e5  \\\n",
       "0           0  005056ba-7cb6-1ed2-bceb-519b93268d12  23:00:00   1.699  1.769   \n",
       "1           1  005056ba-7cb6-1ed2-bceb-519b93268d12  05:00:00   1.769  1.849   \n",
       "2           2  005056ba-7cb6-1ed2-bceb-519b93268d12  06:00:00   1.759  1.839   \n",
       "3           3  005056ba-7cb6-1ed2-bceb-519b93268d12  07:00:00   1.734  1.794   \n",
       "4           4  005056ba-7cb6-1ed2-bceb-519b93268d12  08:00:00   1.744  1.804   \n",
       "\n",
       "     e10  dieselchange  e5change  e10change  brand  ...              name  \\\n",
       "0  1.709           1.0       1.0        1.0  ORLEN  ...  ORLEN Tankstelle   \n",
       "1  1.789           1.0       1.0        1.0  ORLEN  ...  ORLEN Tankstelle   \n",
       "2  1.779           1.0       1.0        1.0  ORLEN  ...  ORLEN Tankstelle   \n",
       "3  1.734           1.0       1.0        1.0  ORLEN  ...  ORLEN Tankstelle   \n",
       "4  1.744           1.0       1.0        1.0  ORLEN  ...  ORLEN Tankstelle   \n",
       "\n",
       "  post_code   latitude longitude            first_active  \\\n",
       "0     32427  52.288749  8.898652  2014-03-18 16:45:31+01   \n",
       "1     32427  52.288749  8.898652  2014-03-18 16:45:31+01   \n",
       "2     32427  52.288749  8.898652  2014-03-18 16:45:31+01   \n",
       "3     32427  52.288749  8.898652  2014-03-18 16:45:31+01   \n",
       "4     32427  52.288749  8.898652  2014-03-18 16:45:31+01   \n",
       "\n",
       "                                   openingtimes_json        date weekday  \\\n",
       "0  {\"openingTimes\":[{\"applicable_days\":31,\"period...  2023-12-31  Sunday   \n",
       "1  {\"openingTimes\":[{\"applicable_days\":31,\"period...  2024-01-01  Monday   \n",
       "2  {\"openingTimes\":[{\"applicable_days\":31,\"period...  2024-01-01  Monday   \n",
       "3  {\"openingTimes\":[{\"applicable_days\":31,\"period...  2024-01-01  Monday   \n",
       "4  {\"openingTimes\":[{\"applicable_days\":31,\"period...  2024-01-01  Monday   \n",
       "\n",
       "  start_time end_time  \n",
       "0      08:00    23:00  \n",
       "1      06:00    23:00  \n",
       "2      06:00    23:00  \n",
       "3      06:00    23:00  \n",
       "4      06:00    23:00  \n",
       "\n",
       "[5 rows x 23 columns]"
      ],
      "text/html": [
       "<div>\n",
       "<style scoped>\n",
       "    .dataframe tbody tr th:only-of-type {\n",
       "        vertical-align: middle;\n",
       "    }\n",
       "\n",
       "    .dataframe tbody tr th {\n",
       "        vertical-align: top;\n",
       "    }\n",
       "\n",
       "    .dataframe thead th {\n",
       "        text-align: right;\n",
       "    }\n",
       "</style>\n",
       "<table border=\"1\" class=\"dataframe\">\n",
       "  <thead>\n",
       "    <tr style=\"text-align: right;\">\n",
       "      <th></th>\n",
       "      <th>Unnamed: 0</th>\n",
       "      <th>station_uuid</th>\n",
       "      <th>hour</th>\n",
       "      <th>diesel</th>\n",
       "      <th>e5</th>\n",
       "      <th>e10</th>\n",
       "      <th>dieselchange</th>\n",
       "      <th>e5change</th>\n",
       "      <th>e10change</th>\n",
       "      <th>brand</th>\n",
       "      <th>...</th>\n",
       "      <th>name</th>\n",
       "      <th>post_code</th>\n",
       "      <th>latitude</th>\n",
       "      <th>longitude</th>\n",
       "      <th>first_active</th>\n",
       "      <th>openingtimes_json</th>\n",
       "      <th>date</th>\n",
       "      <th>weekday</th>\n",
       "      <th>start_time</th>\n",
       "      <th>end_time</th>\n",
       "    </tr>\n",
       "  </thead>\n",
       "  <tbody>\n",
       "    <tr>\n",
       "      <th>0</th>\n",
       "      <td>0</td>\n",
       "      <td>005056ba-7cb6-1ed2-bceb-519b93268d12</td>\n",
       "      <td>23:00:00</td>\n",
       "      <td>1.699</td>\n",
       "      <td>1.769</td>\n",
       "      <td>1.709</td>\n",
       "      <td>1.0</td>\n",
       "      <td>1.0</td>\n",
       "      <td>1.0</td>\n",
       "      <td>ORLEN</td>\n",
       "      <td>...</td>\n",
       "      <td>ORLEN Tankstelle</td>\n",
       "      <td>32427</td>\n",
       "      <td>52.288749</td>\n",
       "      <td>8.898652</td>\n",
       "      <td>2014-03-18 16:45:31+01</td>\n",
       "      <td>{\"openingTimes\":[{\"applicable_days\":31,\"period...</td>\n",
       "      <td>2023-12-31</td>\n",
       "      <td>Sunday</td>\n",
       "      <td>08:00</td>\n",
       "      <td>23:00</td>\n",
       "    </tr>\n",
       "    <tr>\n",
       "      <th>1</th>\n",
       "      <td>1</td>\n",
       "      <td>005056ba-7cb6-1ed2-bceb-519b93268d12</td>\n",
       "      <td>05:00:00</td>\n",
       "      <td>1.769</td>\n",
       "      <td>1.849</td>\n",
       "      <td>1.789</td>\n",
       "      <td>1.0</td>\n",
       "      <td>1.0</td>\n",
       "      <td>1.0</td>\n",
       "      <td>ORLEN</td>\n",
       "      <td>...</td>\n",
       "      <td>ORLEN Tankstelle</td>\n",
       "      <td>32427</td>\n",
       "      <td>52.288749</td>\n",
       "      <td>8.898652</td>\n",
       "      <td>2014-03-18 16:45:31+01</td>\n",
       "      <td>{\"openingTimes\":[{\"applicable_days\":31,\"period...</td>\n",
       "      <td>2024-01-01</td>\n",
       "      <td>Monday</td>\n",
       "      <td>06:00</td>\n",
       "      <td>23:00</td>\n",
       "    </tr>\n",
       "    <tr>\n",
       "      <th>2</th>\n",
       "      <td>2</td>\n",
       "      <td>005056ba-7cb6-1ed2-bceb-519b93268d12</td>\n",
       "      <td>06:00:00</td>\n",
       "      <td>1.759</td>\n",
       "      <td>1.839</td>\n",
       "      <td>1.779</td>\n",
       "      <td>1.0</td>\n",
       "      <td>1.0</td>\n",
       "      <td>1.0</td>\n",
       "      <td>ORLEN</td>\n",
       "      <td>...</td>\n",
       "      <td>ORLEN Tankstelle</td>\n",
       "      <td>32427</td>\n",
       "      <td>52.288749</td>\n",
       "      <td>8.898652</td>\n",
       "      <td>2014-03-18 16:45:31+01</td>\n",
       "      <td>{\"openingTimes\":[{\"applicable_days\":31,\"period...</td>\n",
       "      <td>2024-01-01</td>\n",
       "      <td>Monday</td>\n",
       "      <td>06:00</td>\n",
       "      <td>23:00</td>\n",
       "    </tr>\n",
       "    <tr>\n",
       "      <th>3</th>\n",
       "      <td>3</td>\n",
       "      <td>005056ba-7cb6-1ed2-bceb-519b93268d12</td>\n",
       "      <td>07:00:00</td>\n",
       "      <td>1.734</td>\n",
       "      <td>1.794</td>\n",
       "      <td>1.734</td>\n",
       "      <td>1.0</td>\n",
       "      <td>1.0</td>\n",
       "      <td>1.0</td>\n",
       "      <td>ORLEN</td>\n",
       "      <td>...</td>\n",
       "      <td>ORLEN Tankstelle</td>\n",
       "      <td>32427</td>\n",
       "      <td>52.288749</td>\n",
       "      <td>8.898652</td>\n",
       "      <td>2014-03-18 16:45:31+01</td>\n",
       "      <td>{\"openingTimes\":[{\"applicable_days\":31,\"period...</td>\n",
       "      <td>2024-01-01</td>\n",
       "      <td>Monday</td>\n",
       "      <td>06:00</td>\n",
       "      <td>23:00</td>\n",
       "    </tr>\n",
       "    <tr>\n",
       "      <th>4</th>\n",
       "      <td>4</td>\n",
       "      <td>005056ba-7cb6-1ed2-bceb-519b93268d12</td>\n",
       "      <td>08:00:00</td>\n",
       "      <td>1.744</td>\n",
       "      <td>1.804</td>\n",
       "      <td>1.744</td>\n",
       "      <td>1.0</td>\n",
       "      <td>1.0</td>\n",
       "      <td>1.0</td>\n",
       "      <td>ORLEN</td>\n",
       "      <td>...</td>\n",
       "      <td>ORLEN Tankstelle</td>\n",
       "      <td>32427</td>\n",
       "      <td>52.288749</td>\n",
       "      <td>8.898652</td>\n",
       "      <td>2014-03-18 16:45:31+01</td>\n",
       "      <td>{\"openingTimes\":[{\"applicable_days\":31,\"period...</td>\n",
       "      <td>2024-01-01</td>\n",
       "      <td>Monday</td>\n",
       "      <td>06:00</td>\n",
       "      <td>23:00</td>\n",
       "    </tr>\n",
       "  </tbody>\n",
       "</table>\n",
       "<p>5 rows × 23 columns</p>\n",
       "</div>"
      ]
     },
     "execution_count": 52,
     "metadata": {},
     "output_type": "execute_result"
    }
   ],
   "execution_count": 52
  },
  {
   "metadata": {},
   "cell_type": "markdown",
   "source": [
    "Erste Auffälligkeiten bei der Betrachtung des Datensatzes:\n",
    "Unnamed: 0 zeigt den Index, liefert anscheinend keinen Mehrwert\n"
   ],
   "id": "adbfba2f033ed769"
  },
  {
   "metadata": {
    "ExecuteTime": {
     "end_time": "2025-09-01T14:52:00.962535Z",
     "start_time": "2025-09-01T14:52:00.933010Z"
    }
   },
   "cell_type": "code",
   "source": "print(df.count())",
   "id": "2f5b745c1f7d4abc",
   "outputs": [
    {
     "name": "stdout",
     "output_type": "stream",
     "text": [
      "Unnamed: 0           73589\n",
      "station_uuid         73589\n",
      "hour                 73589\n",
      "diesel               73589\n",
      "e5                   73589\n",
      "e10                  73589\n",
      "dieselchange         73589\n",
      "e5change             73589\n",
      "e10change            73589\n",
      "brand                68097\n",
      "city                 73589\n",
      "street               73589\n",
      "house_number         67120\n",
      "name                 73589\n",
      "post_code            73589\n",
      "latitude             73589\n",
      "longitude            73589\n",
      "first_active         73589\n",
      "openingtimes_json    73589\n",
      "date                 73589\n",
      "weekday              73589\n",
      "start_time           43512\n",
      "end_time             43512\n",
      "dtype: int64\n"
     ]
    }
   ],
   "execution_count": 53
  },
  {
   "metadata": {},
   "cell_type": "markdown",
   "source": [
    "Auffälligkeiten:\n",
    "- Es gibt 73589 Zeilen in dem Datensatz\n",
    "- 'brand' hat fehlende Werte (5497 fehlende Werte)\n",
    "- 'house_number' hat fehlende Werte (6469 fehlende Werte)\n",
    "- 'start_time' und 'end_time' haben fehlende Werte, beide gleich viele (30077 fehlende Werte)"
   ],
   "id": "beecf0ac1bf55c1b"
  },
  {
   "metadata": {},
   "cell_type": "markdown",
   "source": "## Detailliertere Betrachtung einzelner Merkmale",
   "id": "5c09ddca6b24e911"
  },
  {
   "metadata": {},
   "cell_type": "markdown",
   "source": "### Brand",
   "id": "f169f184ad1894d8"
  },
  {
   "metadata": {
    "ExecuteTime": {
     "end_time": "2025-09-01T14:52:01.753454Z",
     "start_time": "2025-09-01T14:52:01.727329Z"
    }
   },
   "cell_type": "code",
   "source": "print(f\" Die Tankstelle {df[df['brand'].isna()]['station_uuid'].unique()} hat kein Brand\")",
   "id": "10e0777e1fd6d2da",
   "outputs": [
    {
     "name": "stdout",
     "output_type": "stream",
     "text": [
      " Die Tankstelle ['fa7e7b54-d16f-437d-b7de-c39f75a7e4f9'] hat kein Brand\n"
     ]
    }
   ],
   "execution_count": 54
  },
  {
   "metadata": {
    "ExecuteTime": {
     "end_time": "2025-09-01T14:52:02.202909Z",
     "start_time": "2025-09-01T14:52:01.869193Z"
    }
   },
   "cell_type": "code",
   "source": [
    "# Quelle: https://seaborn.pydata.org/generated/seaborn.countplot.html\n",
    "print(df['brand'].value_counts(dropna=False))\n",
    "plt.figure(figsize=(8, 4))\n",
    "sns.countplot(data=df, x=df['brand'])\n",
    "\n",
    "plt.title(\"Tankstellen nach Marke\")\n",
    "plt.xticks(rotation=90)\n",
    "plt.xlabel(\"Marke\")\n",
    "plt.ylabel(\"Anzahl der Einträge\")\n",
    "plt.tight_layout()\n",
    "plt.show()"
   ],
   "id": "6f5b7f8845e802a4",
   "outputs": [
    {
     "name": "stdout",
     "output_type": "stream",
     "text": [
      "brand\n",
      "ORLEN                   12976\n",
      "STAR                     6516\n",
      "OIL!                     6469\n",
      "Westfalen                6406\n",
      "Markant                  6284\n",
      "Calpam                   6171\n",
      "CLASSIC                  6016\n",
      "TAS                      5838\n",
      "Shell                    5649\n",
      "ARAL                     5647\n",
      "NaN                      5492\n",
      "Iboil Tankstellen UG      125\n",
      "Name: count, dtype: int64\n"
     ]
    },
    {
     "data": {
      "text/plain": [
       "<Figure size 800x400 with 1 Axes>"
      ],
      "image/png": "[encoded data removed]"
     },
     "metadata": {},
     "output_type": "display_data"
    }
   ],
   "execution_count": 55
  },
  {
   "metadata": {},
   "cell_type": "markdown",
   "source": [
    "Auffälligkeiten:\n",
    "- Eine Tankstelle hat keinen Brand.\n",
    "    - Diese Tankstelle hat die uuid: fa7e7b54-d16f-437d-b7de-c39f75a7e4f9 und den Namen Tankstelle Harting Minden.\n",
    "- Es ist zu erkennen, dass alle Marken ähnlich viele Einträge haben, außer 'ORLEN' mit etwa doppelt so viele Einträgen und Iboil mit nur 125 Einträgen."
   ],
   "id": "3c7af7dd7cd0270d"
  },
  {
   "metadata": {},
   "cell_type": "markdown",
   "source": "### House_number",
   "id": "b5d163510d47c4b5"
  },
  {
   "metadata": {
    "ExecuteTime": {
     "end_time": "2025-09-01T14:52:02.267133Z",
     "start_time": "2025-09-01T14:52:02.249751Z"
    }
   },
   "cell_type": "code",
   "source": "print(f\" Die Tankstelle {df[df['house_number'].isna()]['station_uuid'].unique()} hat keine Hausnummer\")",
   "id": "9f6a01ae17bba4b",
   "outputs": [
    {
     "name": "stdout",
     "output_type": "stream",
     "text": [
      " Die Tankstelle ['4c746120-5b7d-40ca-8c75-ccd55c4d0814'] hat keine Hausnummer\n"
     ]
    }
   ],
   "execution_count": 56
  },
  {
   "metadata": {
    "ExecuteTime": {
     "end_time": "2025-09-01T14:52:02.315991Z",
     "start_time": "2025-09-01T14:52:02.312445Z"
    }
   },
   "cell_type": "code",
   "source": "df['house_number'].unique()",
   "id": "c08e5fb27b94426e",
   "outputs": [
    {
     "data": {
      "text/plain": [
       "array(['102', '52', '156a', '36', '55', '8', 8.0, nan, 57.0, 81.0, 82.0,\n",
       "       11.0, 26.0, '26', '79a'], dtype=object)"
      ]
     },
     "execution_count": 57,
     "metadata": {},
     "output_type": "execute_result"
    }
   ],
   "execution_count": 57
  },
  {
   "metadata": {
    "ExecuteTime": {
     "end_time": "2025-09-01T14:52:02.386422Z",
     "start_time": "2025-09-01T14:52:02.374099Z"
    }
   },
   "cell_type": "code",
   "source": [
    "print(df[df['house_number'].isin(['8'])]['station_uuid'].unique())\n",
    "print(df[df['house_number'].isin([8.0])]['station_uuid'].unique())\n",
    "\n",
    "print(df[df['house_number'].isin(['26'])]['station_uuid'].unique())\n",
    "print(df[df['house_number'].isin([26.0])]['station_uuid'].unique())"
   ],
   "id": "1cfb66d2f7f74e33",
   "outputs": [
    {
     "name": "stdout",
     "output_type": "stream",
     "text": [
      "['2dbf6b64-a83d-4630-ad83-c16015b8efa4']\n",
      "['2dbf6b64-a83d-4630-ad83-c16015b8efa4']\n",
      "['e353671a-b0bc-4fd4-bbf0-7d29cfcb2489']\n",
      "['e353671a-b0bc-4fd4-bbf0-7d29cfcb2489']\n"
     ]
    }
   ],
   "execution_count": 58
  },
  {
   "metadata": {},
   "cell_type": "markdown",
   "source": [
    "Auffälligkeiten:\n",
    "- Es handelt sich um eine Tankstelle (uuid: 4c746120-5b7d-40ca-8c75-ccd55c4d0814), die keine Hausnummer hat.\n",
    "    - Die Hausnummer steht hier in der Spalte 'street' zusammen mit der Straße.\n",
    "\n",
    "- Die Hausnummer liegen in unterschiedlichen Formaten vor.\n",
    "- Bei der Tankstelle '2dbf6b64-a83d-4630-ad83-c16015b8efa4' liegen die Hausnummern in zwei verschiedenen Formaten vor.\n",
    "    - Sie haben allerdings die gleiche uuid.\n",
    "- Das gleiche bei der Tankstelle 'e353671a-b0bc-4fd4-bbf0-7d29cfcb2489'."
   ],
   "id": "a03ca83d4c9a74ee"
  },
  {
   "metadata": {},
   "cell_type": "markdown",
   "source": "### Start_time und End_time",
   "id": "6329232ad73f51d4"
  },
  {
   "metadata": {
    "ExecuteTime": {
     "end_time": "2025-09-01T14:52:02.458490Z",
     "start_time": "2025-09-01T14:52:02.424148Z"
    }
   },
   "cell_type": "code",
   "source": [
    "df_startNan = df[df['start_time'].isna()]\n",
    "df_startNan['station_uuid'].unique()\n",
    "df_startNan['openingtimes_json'].unique()"
   ],
   "id": "dd778c0da7caabfa",
   "outputs": [
    {
     "data": {
      "text/plain": [
       "array(['{}'], dtype=object)"
      ]
     },
     "execution_count": 59,
     "metadata": {},
     "output_type": "execute_result"
    }
   ],
   "execution_count": 59
  },
  {
   "metadata": {
    "ExecuteTime": {
     "end_time": "2025-09-01T14:52:02.569226Z",
     "start_time": "2025-09-01T14:52:02.528796Z"
    }
   },
   "cell_type": "code",
   "source": "df[df['openingtimes_json'].astype(str) == '{}']",
   "id": "80c8b52392239743",
   "outputs": [
    {
     "data": {
      "text/plain": [
       "       Unnamed: 0                          station_uuid      hour    diesel  \\\n",
       "32182       32182  2dbf6b64-a83d-4630-ad83-c16015b8efa4  05:00:00  1.679000   \n",
       "32183       32183  2dbf6b64-a83d-4630-ad83-c16015b8efa4  06:00:00  1.734000   \n",
       "32184       32184  2dbf6b64-a83d-4630-ad83-c16015b8efa4  07:00:00  1.725667   \n",
       "32185       32185  2dbf6b64-a83d-4630-ad83-c16015b8efa4  08:00:00  1.744000   \n",
       "32186       32186  2dbf6b64-a83d-4630-ad83-c16015b8efa4  09:00:00  1.709000   \n",
       "...           ...                                   ...       ...       ...   \n",
       "68092       68092  e353671a-b0bc-4fd4-bbf0-7d29cfcb2489  17:00:00  1.624000   \n",
       "68093       68093  e353671a-b0bc-4fd4-bbf0-7d29cfcb2489  18:00:00  1.579000   \n",
       "68094       68094  e353671a-b0bc-4fd4-bbf0-7d29cfcb2489  19:00:00  1.614000   \n",
       "68095       68095  e353671a-b0bc-4fd4-bbf0-7d29cfcb2489  20:00:00  1.579000   \n",
       "68096       68096  e353671a-b0bc-4fd4-bbf0-7d29cfcb2489  21:00:00  1.659000   \n",
       "\n",
       "             e5       e10  dieselchange  e5change  e10change   brand  ...  \\\n",
       "32182  1.749000  1.689000           1.0       1.0        1.0  Calpam  ...   \n",
       "32183  1.819000  1.759000           1.0       1.0        1.0  Calpam  ...   \n",
       "32184  1.792333  1.732333           1.0       1.0        1.0  Calpam  ...   \n",
       "32185  1.804000  1.744000           1.0       1.0        1.0  Calpam  ...   \n",
       "32186  1.769000  1.709000           1.0       1.0        1.0  Calpam  ...   \n",
       "...         ...       ...           ...       ...        ...     ...  ...   \n",
       "68092  1.744000  1.684000           1.0       1.0        1.0    ARAL  ...   \n",
       "68093  1.699000  1.639000           1.0       1.0        1.0    ARAL  ...   \n",
       "68094  1.734000  1.674000           1.0       1.0        1.0    ARAL  ...   \n",
       "68095  1.689000  1.629000           1.0       1.0        1.0    ARAL  ...   \n",
       "68096  1.769000  1.709000           1.0       1.0        1.0    ARAL  ...   \n",
       "\n",
       "                    name post_code   latitude longitude  \\\n",
       "32182  Calpam Tankstelle     32425  52.333858  8.904830   \n",
       "32183  Calpam Tankstelle     32425  52.333858  8.904830   \n",
       "32184  Calpam Tankstelle     32425  52.333858  8.904830   \n",
       "32185  Calpam Tankstelle     32425  52.333858  8.904830   \n",
       "32186  Calpam Tankstelle     32425  52.333858  8.904830   \n",
       "...                  ...       ...        ...       ...   \n",
       "68092    Aral Tankstelle     32427  52.283130  8.902097   \n",
       "68093    Aral Tankstelle     32427  52.283130  8.902097   \n",
       "68094    Aral Tankstelle     32427  52.283130  8.902097   \n",
       "68095    Aral Tankstelle     32427  52.283130  8.902097   \n",
       "68096    Aral Tankstelle     32427  52.283130  8.902097   \n",
       "\n",
       "                 first_active  openingtimes_json        date  weekday  \\\n",
       "32182  2014-03-18 16:45:31+01                 {}  2024-01-01   Monday   \n",
       "32183  2014-03-18 16:45:31+01                 {}  2024-01-01   Monday   \n",
       "32184  2014-03-18 16:45:31+01                 {}  2024-01-01   Monday   \n",
       "32185  2014-03-18 16:45:31+01                 {}  2024-01-01   Monday   \n",
       "32186  2014-03-18 16:45:31+01                 {}  2024-01-01   Monday   \n",
       "...                       ...                ...         ...      ...   \n",
       "68092  2014-03-18 16:45:31+01                 {}  2024-12-31  Tuesday   \n",
       "68093  2014-03-18 16:45:31+01                 {}  2024-12-31  Tuesday   \n",
       "68094  2014-03-18 16:45:31+01                 {}  2024-12-31  Tuesday   \n",
       "68095  2014-03-18 16:45:31+01                 {}  2024-12-31  Tuesday   \n",
       "68096  2014-03-18 16:45:31+01                 {}  2024-12-31  Tuesday   \n",
       "\n",
       "      start_time end_time  \n",
       "32182        NaN      NaN  \n",
       "32183        NaN      NaN  \n",
       "32184        NaN      NaN  \n",
       "32185        NaN      NaN  \n",
       "32186        NaN      NaN  \n",
       "...          ...      ...  \n",
       "68092        NaN      NaN  \n",
       "68093        NaN      NaN  \n",
       "68094        NaN      NaN  \n",
       "68095        NaN      NaN  \n",
       "68096        NaN      NaN  \n",
       "\n",
       "[30077 rows x 23 columns]"
      ],
      "text/html": [
       "<div>\n",
       "<style scoped>\n",
       "    .dataframe tbody tr th:only-of-type {\n",
       "        vertical-align: middle;\n",
       "    }\n",
       "\n",
       "    .dataframe tbody tr th {\n",
       "        vertical-align: top;\n",
       "    }\n",
       "\n",
       "    .dataframe thead th {\n",
       "        text-align: right;\n",
       "    }\n",
       "</style>\n",
       "<table border=\"1\" class=\"dataframe\">\n",
       "  <thead>\n",
       "    <tr style=\"text-align: right;\">\n",
       "      <th></th>\n",
       "      <th>Unnamed: 0</th>\n",
       "      <th>station_uuid</th>\n",
       "      <th>hour</th>\n",
       "      <th>diesel</th>\n",
       "      <th>e5</th>\n",
       "      <th>e10</th>\n",
       "      <th>dieselchange</th>\n",
       "      <th>e5change</th>\n",
       "      <th>e10change</th>\n",
       "      <th>brand</th>\n",
       "      <th>...</th>\n",
       "      <th>name</th>\n",
       "      <th>post_code</th>\n",
       "      <th>latitude</th>\n",
       "      <th>longitude</th>\n",
       "      <th>first_active</th>\n",
       "      <th>openingtimes_json</th>\n",
       "      <th>date</th>\n",
       "      <th>weekday</th>\n",
       "      <th>start_time</th>\n",
       "      <th>end_time</th>\n",
       "    </tr>\n",
       "  </thead>\n",
       "  <tbody>\n",
       "    <tr>\n",
       "      <th>32182</th>\n",
       "      <td>32182</td>\n",
       "      <td>2dbf6b64-a83d-4630-ad83-c16015b8efa4</td>\n",
       "      <td>05:00:00</td>\n",
       "      <td>1.679000</td>\n",
       "      <td>1.749000</td>\n",
       "      <td>1.689000</td>\n",
       "      <td>1.0</td>\n",
       "      <td>1.0</td>\n",
       "      <td>1.0</td>\n",
       "      <td>Calpam</td>\n",
       "      <td>...</td>\n",
       "      <td>Calpam Tankstelle</td>\n",
       "      <td>32425</td>\n",
       "      <td>52.333858</td>\n",
       "      <td>8.904830</td>\n",
       "      <td>2014-03-18 16:45:31+01</td>\n",
       "      <td>{}</td>\n",
       "      <td>2024-01-01</td>\n",
       "      <td>Monday</td>\n",
       "      <td>NaN</td>\n",
       "      <td>NaN</td>\n",
       "    </tr>\n",
       "    <tr>\n",
       "      <th>32183</th>\n",
       "      <td>32183</td>\n",
       "      <td>2dbf6b64-a83d-4630-ad83-c16015b8efa4</td>\n",
       "      <td>06:00:00</td>\n",
       "      <td>1.734000</td>\n",
       "      <td>1.819000</td>\n",
       "      <td>1.759000</td>\n",
       "      <td>1.0</td>\n",
       "      <td>1.0</td>\n",
       "      <td>1.0</td>\n",
       "      <td>Calpam</td>\n",
       "      <td>...</td>\n",
       "      <td>Calpam Tankstelle</td>\n",
       "      <td>32425</td>\n",
       "      <td>52.333858</td>\n",
       "      <td>8.904830</td>\n",
       "      <td>2014-03-18 16:45:31+01</td>\n",
       "      <td>{}</td>\n",
       "      <td>2024-01-01</td>\n",
       "      <td>Monday</td>\n",
       "      <td>NaN</td>\n",
       "      <td>NaN</td>\n",
       "    </tr>\n",
       "    <tr>\n",
       "      <th>32184</th>\n",
       "      <td>32184</td>\n",
       "      <td>2dbf6b64-a83d-4630-ad83-c16015b8efa4</td>\n",
       "      <td>07:00:00</td>\n",
       "      <td>1.725667</td>\n",
       "      <td>1.792333</td>\n",
       "      <td>1.732333</td>\n",
       "      <td>1.0</td>\n",
       "      <td>1.0</td>\n",
       "      <td>1.0</td>\n",
       "      <td>Calpam</td>\n",
       "      <td>...</td>\n",
       "      <td>Calpam Tankstelle</td>\n",
       "      <td>32425</td>\n",
       "      <td>52.333858</td>\n",
       "      <td>8.904830</td>\n",
       "      <td>2014-03-18 16:45:31+01</td>\n",
       "      <td>{}</td>\n",
       "      <td>2024-01-01</td>\n",
       "      <td>Monday</td>\n",
       "      <td>NaN</td>\n",
       "      <td>NaN</td>\n",
       "    </tr>\n",
       "    <tr>\n",
       "      <th>32185</th>\n",
       "      <td>32185</td>\n",
       "      <td>2dbf6b64-a83d-4630-ad83-c16015b8efa4</td>\n",
       "      <td>08:00:00</td>\n",
       "      <td>1.744000</td>\n",
       "      <td>1.804000</td>\n",
       "      <td>1.744000</td>\n",
       "      <td>1.0</td>\n",
       "      <td>1.0</td>\n",
       "      <td>1.0</td>\n",
       "      <td>Calpam</td>\n",
       "      <td>...</td>\n",
       "      <td>Calpam Tankstelle</td>\n",
       "      <td>32425</td>\n",
       "      <td>52.333858</td>\n",
       "      <td>8.904830</td>\n",
       "      <td>2014-03-18 16:45:31+01</td>\n",
       "      <td>{}</td>\n",
       "      <td>2024-01-01</td>\n",
       "      <td>Monday</td>\n",
       "      <td>NaN</td>\n",
       "      <td>NaN</td>\n",
       "    </tr>\n",
       "    <tr>\n",
       "      <th>32186</th>\n",
       "      <td>32186</td>\n",
       "      <td>2dbf6b64-a83d-4630-ad83-c16015b8efa4</td>\n",
       "      <td>09:00:00</td>\n",
       "      <td>1.709000</td>\n",
       "      <td>1.769000</td>\n",
       "      <td>1.709000</td>\n",
       "      <td>1.0</td>\n",
       "      <td>1.0</td>\n",
       "      <td>1.0</td>\n",
       "      <td>Calpam</td>\n",
       "      <td>...</td>\n",
       "      <td>Calpam Tankstelle</td>\n",
       "      <td>32425</td>\n",
       "      <td>52.333858</td>\n",
       "      <td>8.904830</td>\n",
       "      <td>2014-03-18 16:45:31+01</td>\n",
       "      <td>{}</td>\n",
       "      <td>2024-01-01</td>\n",
       "      <td>Monday</td>\n",
       "      <td>NaN</td>\n",
       "      <td>NaN</td>\n",
       "    </tr>\n",
       "    <tr>\n",
       "      <th>...</th>\n",
       "      <td>...</td>\n",
       "      <td>...</td>\n",
       "      <td>...</td>\n",
       "      <td>...</td>\n",
       "      <td>...</td>\n",
       "      <td>...</td>\n",
       "      <td>...</td>\n",
       "      <td>...</td>\n",
       "      <td>...</td>\n",
       "      <td>...</td>\n",
       "      <td>...</td>\n",
       "      <td>...</td>\n",
       "      <td>...</td>\n",
       "      <td>...</td>\n",
       "      <td>...</td>\n",
       "      <td>...</td>\n",
       "      <td>...</td>\n",
       "      <td>...</td>\n",
       "      <td>...</td>\n",
       "      <td>...</td>\n",
       "      <td>...</td>\n",
       "    </tr>\n",
       "    <tr>\n",
       "      <th>68092</th>\n",
       "      <td>68092</td>\n",
       "      <td>e353671a-b0bc-4fd4-bbf0-7d29cfcb2489</td>\n",
       "      <td>17:00:00</td>\n",
       "      <td>1.624000</td>\n",
       "      <td>1.744000</td>\n",
       "      <td>1.684000</td>\n",
       "      <td>1.0</td>\n",
       "      <td>1.0</td>\n",
       "      <td>1.0</td>\n",
       "      <td>ARAL</td>\n",
       "      <td>...</td>\n",
       "      <td>Aral Tankstelle</td>\n",
       "      <td>32427</td>\n",
       "      <td>52.283130</td>\n",
       "      <td>8.902097</td>\n",
       "      <td>2014-03-18 16:45:31+01</td>\n",
       "      <td>{}</td>\n",
       "      <td>2024-12-31</td>\n",
       "      <td>Tuesday</td>\n",
       "      <td>NaN</td>\n",
       "      <td>NaN</td>\n",
       "    </tr>\n",
       "    <tr>\n",
       "      <th>68093</th>\n",
       "      <td>68093</td>\n",
       "      <td>e353671a-b0bc-4fd4-bbf0-7d29cfcb2489</td>\n",
       "      <td>18:00:00</td>\n",
       "      <td>1.579000</td>\n",
       "      <td>1.699000</td>\n",
       "      <td>1.639000</td>\n",
       "      <td>1.0</td>\n",
       "      <td>1.0</td>\n",
       "      <td>1.0</td>\n",
       "      <td>ARAL</td>\n",
       "      <td>...</td>\n",
       "      <td>Aral Tankstelle</td>\n",
       "      <td>32427</td>\n",
       "      <td>52.283130</td>\n",
       "      <td>8.902097</td>\n",
       "      <td>2014-03-18 16:45:31+01</td>\n",
       "      <td>{}</td>\n",
       "      <td>2024-12-31</td>\n",
       "      <td>Tuesday</td>\n",
       "      <td>NaN</td>\n",
       "      <td>NaN</td>\n",
       "    </tr>\n",
       "    <tr>\n",
       "      <th>68094</th>\n",
       "      <td>68094</td>\n",
       "      <td>e353671a-b0bc-4fd4-bbf0-7d29cfcb2489</td>\n",
       "      <td>19:00:00</td>\n",
       "      <td>1.614000</td>\n",
       "      <td>1.734000</td>\n",
       "      <td>1.674000</td>\n",
       "      <td>1.0</td>\n",
       "      <td>1.0</td>\n",
       "      <td>1.0</td>\n",
       "      <td>ARAL</td>\n",
       "      <td>...</td>\n",
       "      <td>Aral Tankstelle</td>\n",
       "      <td>32427</td>\n",
       "      <td>52.283130</td>\n",
       "      <td>8.902097</td>\n",
       "      <td>2014-03-18 16:45:31+01</td>\n",
       "      <td>{}</td>\n",
       "      <td>2024-12-31</td>\n",
       "      <td>Tuesday</td>\n",
       "      <td>NaN</td>\n",
       "      <td>NaN</td>\n",
       "    </tr>\n",
       "    <tr>\n",
       "      <th>68095</th>\n",
       "      <td>68095</td>\n",
       "      <td>e353671a-b0bc-4fd4-bbf0-7d29cfcb2489</td>\n",
       "      <td>20:00:00</td>\n",
       "      <td>1.579000</td>\n",
       "      <td>1.689000</td>\n",
       "      <td>1.629000</td>\n",
       "      <td>1.0</td>\n",
       "      <td>1.0</td>\n",
       "      <td>1.0</td>\n",
       "      <td>ARAL</td>\n",
       "      <td>...</td>\n",
       "      <td>Aral Tankstelle</td>\n",
       "      <td>32427</td>\n",
       "      <td>52.283130</td>\n",
       "      <td>8.902097</td>\n",
       "      <td>2014-03-18 16:45:31+01</td>\n",
       "      <td>{}</td>\n",
       "      <td>2024-12-31</td>\n",
       "      <td>Tuesday</td>\n",
       "      <td>NaN</td>\n",
       "      <td>NaN</td>\n",
       "    </tr>\n",
       "    <tr>\n",
       "      <th>68096</th>\n",
       "      <td>68096</td>\n",
       "      <td>e353671a-b0bc-4fd4-bbf0-7d29cfcb2489</td>\n",
       "      <td>21:00:00</td>\n",
       "      <td>1.659000</td>\n",
       "      <td>1.769000</td>\n",
       "      <td>1.709000</td>\n",
       "      <td>1.0</td>\n",
       "      <td>1.0</td>\n",
       "      <td>1.0</td>\n",
       "      <td>ARAL</td>\n",
       "      <td>...</td>\n",
       "      <td>Aral Tankstelle</td>\n",
       "      <td>32427</td>\n",
       "      <td>52.283130</td>\n",
       "      <td>8.902097</td>\n",
       "      <td>2014-03-18 16:45:31+01</td>\n",
       "      <td>{}</td>\n",
       "      <td>2024-12-31</td>\n",
       "      <td>Tuesday</td>\n",
       "      <td>NaN</td>\n",
       "      <td>NaN</td>\n",
       "    </tr>\n",
       "  </tbody>\n",
       "</table>\n",
       "<p>30077 rows × 23 columns</p>\n",
       "</div>"
      ]
     },
     "execution_count": 60,
     "metadata": {},
     "output_type": "execute_result"
    }
   ],
   "execution_count": 60
  },
  {
   "metadata": {
    "ExecuteTime": {
     "end_time": "2025-09-01T14:52:02.688035Z",
     "start_time": "2025-09-01T14:52:02.629204Z"
    }
   },
   "cell_type": "code",
   "source": [
    "tankstellen = df_startNan['name'].unique()\n",
    "for tankstelle in tankstellen:\n",
    "    print(f\"{tankstelle} hat insgesamt {len(df_startNan[df_startNan['name'] == tankstelle]['hour'].unique())} Stunden am Tag Werte übermittelt. Dabei ist der früheste Übermittlung um {df_startNan[df_startNan['name'] == tankstelle]['hour'].unique().min()} und die letzte um {df_startNan[df_startNan['name'] == tankstelle]['hour'].unique().max()}\")"
   ],
   "id": "c1ed2822e1813d98",
   "outputs": [
    {
     "name": "stdout",
     "output_type": "stream",
     "text": [
      "Calpam Tankstelle hat insgesamt 24 Stunden am Tag Werte übermittelt. Dabei ist der früheste Übermittlung um 00:00:00 und die letzte um 23:00:00\n",
      "OIL! Tankstelle Minden hat insgesamt 21 Stunden am Tag Werte übermittelt. Dabei ist der früheste Übermittlung um 03:00:00 und die letzte um 23:00:00\n",
      "Shell Minden Stiftstr. 57 hat insgesamt 20 Stunden am Tag Werte übermittelt. Dabei ist der früheste Übermittlung um 00:00:00 und die letzte um 22:00:00\n",
      "Iboil Minden hat insgesamt 19 Stunden am Tag Werte übermittelt. Dabei ist der früheste Übermittlung um 04:00:00 und die letzte um 22:00:00\n",
      "CLASSIC Minden(CLASSIC) hat insgesamt 22 Stunden am Tag Werte übermittelt. Dabei ist der früheste Übermittlung um 00:00:00 und die letzte um 23:00:00\n",
      "Aral Tankstelle hat insgesamt 19 Stunden am Tag Werte übermittelt. Dabei ist der früheste Übermittlung um 03:00:00 und die letzte um 21:00:00\n"
     ]
    }
   ],
   "execution_count": 61
  },
  {
   "metadata": {
    "ExecuteTime": {
     "end_time": "2025-09-01T14:52:02.918239Z",
     "start_time": "2025-09-01T14:52:02.740155Z"
    }
   },
   "cell_type": "code",
   "source": [
    "# Quelle: https://seaborn.pydata.org/generated/seaborn.countplot.html\n",
    "plt.figure(figsize=(6, 3))\n",
    "sns.countplot(data=df, x=df['start_time'].astype(str).fillna('Unbekannt'), order=sorted(df['start_time'].astype(str).unique()))\n",
    "\n",
    "plt.title(\"Öffnungszeit der Tankstellen\")\n",
    "plt.xlabel(\"Anzahl der Einträge\")\n",
    "plt.ylabel(\"Startzeit\")\n",
    "plt.tight_layout()\n",
    "plt.show()"
   ],
   "id": "2db407216b941819",
   "outputs": [
    {
     "data": {
      "text/plain": [
       "<Figure size 600x300 with 1 Axes>"
      ],
      "image/png": "[encoded data removed]"
     },
     "metadata": {},
     "output_type": "display_data"
    }
   ],
   "execution_count": 62
  },
  {
   "metadata": {
    "ExecuteTime": {
     "end_time": "2025-09-01T14:52:03.376088Z",
     "start_time": "2025-09-01T14:52:03.146195Z"
    }
   },
   "cell_type": "code",
   "source": [
    "# Quelle: https://seaborn.pydata.org/generated/seaborn.countplot.html\n",
    "plt.figure(figsize=(6, 3))\n",
    "sns.countplot(data=df, x=df['end_time'].astype(str).fillna('Unbekannt'), order=sorted(df['end_time'].astype(str).unique()))\n",
    "\n",
    "plt.title(\"Schließzeit der Tankstellen\")\n",
    "plt.xlabel(\"Anzahl der Einträge\")\n",
    "plt.ylabel(\"Schließzeit\")\n",
    "plt.tight_layout()\n",
    "plt.show()"
   ],
   "id": "4a1fe40b82d40270",
   "outputs": [
    {
     "data": {
      "text/plain": [
       "<Figure size 600x300 with 1 Axes>"
      ],
      "image/png": "[encoded data removed]"
     },
     "metadata": {},
     "output_type": "display_data"
    }
   ],
   "execution_count": 63
  },
  {
   "metadata": {},
   "cell_type": "markdown",
   "source": [
    "Auffälligkeiten:\n",
    "- Wenn eine Tankstelle keine start_time hat, dann hat sie auch keine end_time.\n",
    "- Es haben 6 Tankstellen keine start_time.\n",
    "- Wenn openingtimes_json = {} ist, dann fehlt die start_time.\n",
    "- Wenn die Tankstellen keine start-time haben, dann werden teilweise 24 Stunden lang Werte übermittelt.\n",
    "    - Nach Abgleich mit Informationen aus dem Internet sind diese Tankstellen rund um die Uhr geöffnet.\n",
    "- In den Plots ist zu erkennen, dass die meisten Tankstellen, von denen die Öffnungszeiten bekannt sind um 6:00 Uhr öffnen und um 22 Uhr schließen."
   ],
   "id": "e73d54e97cc7ad5b"
  },
  {
   "metadata": {},
   "cell_type": "markdown",
   "source": "### Street",
   "id": "8e41504b6f273620"
  },
  {
   "metadata": {
    "ExecuteTime": {
     "end_time": "2025-09-01T14:52:03.435766Z",
     "start_time": "2025-09-01T14:52:03.427417Z"
    }
   },
   "cell_type": "code",
   "source": [
    "len(df['street'].unique())\n",
    "df['street'].unique()"
   ],
   "id": "d80c7e48a8a4a4dd",
   "outputs": [
    {
     "data": {
      "text/plain": [
       "array(['Königstraße', 'Portastraße', 'Marienstraße', 'Stiftsallee',\n",
       "       'Lübbecker Str.', 'Kutenhauser Dorfstr.', 'Viktoriastraße 22',\n",
       "       'Stiftstr.', 'Ringstrasse', 'Friedrich-Wilhelm-Str.',\n",
       "       'Ringstraße ', 'Friedrich-Wilhelm-Str. '], dtype=object)"
      ]
     },
     "execution_count": 64,
     "metadata": {},
     "output_type": "execute_result"
    }
   ],
   "execution_count": 64
  },
  {
   "metadata": {
    "ExecuteTime": {
     "end_time": "2025-09-01T14:52:03.749472Z",
     "start_time": "2025-09-01T14:52:03.496139Z"
    }
   },
   "cell_type": "code",
   "source": [
    "# Quelle: https://seaborn.pydata.org/generated/seaborn.countplot.html\n",
    "plt.figure(figsize=(8, 4))\n",
    "sns.countplot(data=df, x=df['street'])\n",
    "\n",
    "plt.title(\"Verteilung der Straßen\")\n",
    "plt.xticks(rotation=90)\n",
    "plt.xlabel(\"Anzahl der Einträge\")\n",
    "plt.ylabel(\"Straße\")\n",
    "plt.tight_layout()\n",
    "plt.show()"
   ],
   "id": "13fe4bb54ce976a6",
   "outputs": [
    {
     "data": {
      "text/plain": [
       "<Figure size 800x400 with 1 Axes>"
      ],
      "image/png": "[encoded data removed]"
     },
     "metadata": {},
     "output_type": "display_data"
    }
   ],
   "execution_count": 65
  },
  {
   "metadata": {},
   "cell_type": "markdown",
   "source": [
    "Auffälligkeiten:\n",
    "- Es gibt 12 Straßen in dem Datensatz. Zwei Straßen sind doppelt in den Daten enthalten, jeweils mit unterschiedlichen Schreibweisen:\n",
    "    - Ringstraße und Ringstrasse\n",
    "    - Friedrich-Wilhelm-Str. und Friedrich-Wilhelm-Str. (zweiter Wert hat ein Leerzeichen am Ende)\n",
    "    - Viktoriastraße hat noch eine Hausnummer in den Daten\n",
    "- In dem Plot ist zu erkennen, dass die meisten Eintränge von der Portastraße kommen. Wenn man allerdings beachtet, dass die Ringstraße in unterschiedlichen Schreibweisen auftaucht, wäre hier ähnlich viele Werte wie bei der Portastraße."
   ],
   "id": "c9af8b428289e181"
  },
  {
   "metadata": {},
   "cell_type": "markdown",
   "source": "### Date",
   "id": "9d75dc27bc186fe0"
  },
  {
   "metadata": {
    "ExecuteTime": {
     "end_time": "2025-09-01T14:52:03.787033Z",
     "start_time": "2025-09-01T14:52:03.777639Z"
    }
   },
   "cell_type": "code",
   "source": [
    "print(df['date'].min())\n",
    "print(df['date'].max())"
   ],
   "id": "13a03d16a6bf3c1",
   "outputs": [
    {
     "name": "stdout",
     "output_type": "stream",
     "text": [
      "2023-12-31\n",
      "2024-12-31\n"
     ]
    }
   ],
   "execution_count": 66
  },
  {
   "metadata": {
    "ExecuteTime": {
     "end_time": "2025-09-01T14:52:03.836526Z",
     "start_time": "2025-09-01T14:52:03.831253Z"
    }
   },
   "cell_type": "code",
   "source": "print(df['date'].nunique())",
   "id": "dde7b3e3b5cfebad",
   "outputs": [
    {
     "name": "stdout",
     "output_type": "stream",
     "text": [
      "367\n"
     ]
    }
   ],
   "execution_count": 67
  },
  {
   "metadata": {
    "ExecuteTime": {
     "end_time": "2025-09-01T14:52:04.164074Z",
     "start_time": "2025-09-01T14:52:03.869968Z"
    }
   },
   "cell_type": "code",
   "source": [
    "# Quellen: https://matplotlib.org/stable/api/_as_gen/matplotlib.pyplot.gca.html, https://seaborn.pydata.org/generated/seaborn.lineplot.html\n",
    "plt.figure(figsize=(6, 3))\n",
    "sns.lineplot(x=df['date'].value_counts().sort_index().index, y=df['date'].value_counts().sort_index().values)\n",
    "\n",
    "plt.gca().xaxis.set_major_locator(mdates.MonthLocator())\n",
    "\n",
    "plt.title(\"Tägliche Einträge – Monatsweise Achsenbeschriftung\")\n",
    "plt.xlabel(\"Monat\")\n",
    "plt.ylabel(\"Anzahl der Einträge\")\n",
    "plt.xticks(rotation=90)\n",
    "plt.tight_layout()\n",
    "plt.show()\n"
   ],
   "id": "f8a6b04d3b81da5e",
   "outputs": [
    {
     "data": {
      "text/plain": [
       "<Figure size 600x300 with 1 Axes>"
      ],
      "image/png": "[encoded data removed]"
     },
     "metadata": {},
     "output_type": "display_data"
    }
   ],
   "execution_count": 68
  },
  {
   "metadata": {},
   "cell_type": "markdown",
   "source": [
    "Auffälligkeiten:\n",
    "- Der erste Eintrag in dem Datensatz ist am 31.12.23 und der letzte am 31.12.24.\n",
    "- Es sind 367 einzigartige Daten in dem Datensatz - 2024 hatte als Schlatjahr 366 Tage und der erste Wert ist noch aus 2023.\n",
    "- Im Plot ist zu erkennen, dass zwischen Februar und März ein Ausreißer nach unten ist.\n",
    "- Zwischen Mai und und Juli gibt es sehr wenige Schwankungen bei den Einträgen."
   ],
   "id": "67d59643005801c6"
  },
  {
   "metadata": {},
   "cell_type": "markdown",
   "source": "### Name",
   "id": "d51b7c51b29204ca"
  },
  {
   "metadata": {
    "ExecuteTime": {
     "end_time": "2025-09-01T14:52:04.200790Z",
     "start_time": "2025-09-01T14:52:04.183189Z"
    }
   },
   "cell_type": "code",
   "source": [
    "print(f\"Es gibt {len(df['station_uuid'].unique()) - len(df['name'].unique())} Tankstellen mit dem gleichen Namen, aber unterschiedlichen IDs\")\n",
    "print(f\"Dabei handelt es sich um die Tankstellen: \\n {df.drop_duplicates(subset='station_uuid')['name'].value_counts()[lambda x: x > 1]}\")"
   ],
   "id": "4d8365b61faa8a6b",
   "outputs": [
    {
     "name": "stdout",
     "output_type": "stream",
     "text": [
      "Es gibt 2 Tankstellen mit dem gleichen Namen, aber unterschiedlichen IDs\n",
      "Dabei handelt es sich um die Tankstellen: \n",
      " name\n",
      "ORLEN Tankstelle    2\n",
      "Lars Thiele         2\n",
      "Name: count, dtype: int64\n"
     ]
    }
   ],
   "execution_count": 69
  },
  {
   "metadata": {
    "ExecuteTime": {
     "end_time": "2025-09-01T14:52:04.367762Z",
     "start_time": "2025-09-01T14:52:04.228973Z"
    }
   },
   "cell_type": "code",
   "source": [
    "# Quelle: https://seaborn.pydata.org/generated/seaborn.countplot.html\n",
    "print(df['name'].value_counts(dropna=False))\n",
    "plt.figure(figsize=(8, 4))\n",
    "sns.countplot(data=df, x=df['name'])\n",
    "\n",
    "plt.title(\"Tankstellen nach Namen\")\n",
    "plt.xticks(rotation=90)\n",
    "plt.xlabel(\"Name\")\n",
    "plt.ylabel(\"Anzahl der Einträge\")\n",
    "plt.tight_layout()\n",
    "plt.show()"
   ],
   "id": "c44dc62cf72336a3",
   "outputs": [
    {
     "name": "stdout",
     "output_type": "stream",
     "text": [
      "name\n",
      "ORLEN Tankstelle             12976\n",
      "Lars Thiele                  12690\n",
      "star Tankstelle               6516\n",
      "OIL! Tankstelle Minden        6469\n",
      "Calpam Tankstelle             6171\n",
      "CLASSIC Minden(CLASSIC)       6016\n",
      "TAS MI Rinstr.                5838\n",
      "Shell Minden Stiftstr. 57     5649\n",
      "Aral Tankstelle               5647\n",
      "Tankstelle Harting Minden     5492\n",
      "Iboil Minden                   125\n",
      "Name: count, dtype: int64\n"
     ]
    },
    {
     "data": {
      "text/plain": [
       "<Figure size 800x400 with 1 Axes>"
      ],
      "image/png": "[encoded data removed]"
     },
     "metadata": {},
     "output_type": "display_data"
    }
   ],
   "execution_count": 70
  },
  {
   "metadata": {},
   "cell_type": "markdown",
   "source": "### City",
   "id": "5b91a65847598dab"
  },
  {
   "metadata": {
    "ExecuteTime": {
     "end_time": "2025-09-01T14:52:04.389896Z",
     "start_time": "2025-09-01T14:52:04.383015Z"
    }
   },
   "cell_type": "code",
   "source": "print(f\"Es wird die Stadt {df['city'].unique()} betrachtet.\")",
   "id": "963f78a1073be08b",
   "outputs": [
    {
     "name": "stdout",
     "output_type": "stream",
     "text": [
      "Es wird die Stadt ['Minden'] betrachtet.\n"
     ]
    }
   ],
   "execution_count": 71
  },
  {
   "metadata": {},
   "cell_type": "markdown",
   "source": "### Weekday",
   "id": "962e80c35a66e85d"
  },
  {
   "metadata": {
    "ExecuteTime": {
     "end_time": "2025-09-01T14:52:04.434352Z",
     "start_time": "2025-09-01T14:52:04.427627Z"
    }
   },
   "cell_type": "code",
   "source": "df['weekday'].unique()",
   "id": "5f8b19738ccb83ae",
   "outputs": [
    {
     "data": {
      "text/plain": [
       "array(['Sunday', 'Monday', 'Tuesday', 'Wednesday', 'Thursday', 'Friday',\n",
       "       'Saturday'], dtype=object)"
      ]
     },
     "execution_count": 72,
     "metadata": {},
     "output_type": "execute_result"
    }
   ],
   "execution_count": 72
  },
  {
   "metadata": {
    "ExecuteTime": {
     "end_time": "2025-09-01T14:52:04.582719Z",
     "start_time": "2025-09-01T14:52:04.461769Z"
    }
   },
   "cell_type": "code",
   "source": [
    "# Quelle: https://seaborn.pydata.org/generated/seaborn.countplot.html\n",
    "plt.figure(figsize=(6, 3))\n",
    "sns.countplot(data=df, x=df['weekday'], order=['Monday', 'Tuesday', 'Wednesday', 'Thursday', 'Friday', 'Saturday', 'Sunday'])\n",
    "\n",
    "plt.title(\"Verteilung der Wochentage\")\n",
    "plt.xlabel(\"Anzahl der Einträge\")\n",
    "plt.ylabel(\"Wochentag\")\n",
    "plt.tight_layout()\n",
    "plt.show()"
   ],
   "id": "1abec29dd89734af",
   "outputs": [
    {
     "data": {
      "text/plain": [
       "<Figure size 600x300 with 1 Axes>"
      ],
      "image/png": "[encoded data removed]"
     },
     "metadata": {},
     "output_type": "display_data"
    }
   ],
   "execution_count": 73
  },
  {
   "metadata": {},
   "cell_type": "markdown",
   "source": [
    "Auffälligkeiten:\n",
    "- Es ist zu erkennen, dass die Einträge auf die Wochentage sehr ähnlich verteilt sind"
   ],
   "id": "f8a60e645efdcfae"
  },
  {
   "metadata": {},
   "cell_type": "markdown",
   "source": "### Hour",
   "id": "2cc89b7f7620f0f0"
  },
  {
   "metadata": {
    "ExecuteTime": {
     "end_time": "2025-09-01T14:52:04.602515Z",
     "start_time": "2025-09-01T14:52:04.594577Z"
    }
   },
   "cell_type": "code",
   "source": "df['hour'].unique()",
   "id": "db7c912a6ba60d23",
   "outputs": [
    {
     "data": {
      "text/plain": [
       "array(['23:00:00', '05:00:00', '06:00:00', '07:00:00', '08:00:00',\n",
       "       '09:00:00', '10:00:00', '11:00:00', '12:00:00', '13:00:00',\n",
       "       '14:00:00', '15:00:00', '16:00:00', '17:00:00', '18:00:00',\n",
       "       '19:00:00', '20:00:00', '22:00:00', '04:00:00', '21:00:00',\n",
       "       '03:00:00', '00:00:00', '02:00:00', '01:00:00'], dtype=object)"
      ]
     },
     "execution_count": 74,
     "metadata": {},
     "output_type": "execute_result"
    }
   ],
   "execution_count": 74
  },
  {
   "metadata": {
    "ExecuteTime": {
     "end_time": "2025-09-01T14:52:04.819838Z",
     "start_time": "2025-09-01T14:52:04.634877Z"
    }
   },
   "cell_type": "code",
   "source": [
    "# Quelle: https://seaborn.pydata.org/generated/seaborn.countplot.html\n",
    "plt.figure(figsize=(6, 3))\n",
    "sns.countplot(data=df, x=df['hour'], order=sorted(df['hour'].dropna().unique()))\n",
    "\n",
    "plt.title(\"Verteilung der Uhrzeiten\")\n",
    "plt.xlabel(\"Anzahl der Einträge\")\n",
    "plt.ylabel(\"Stunde\")\n",
    "plt.xticks(rotation=90)\n",
    "plt.tight_layout()\n",
    "plt.show()"
   ],
   "id": "fbd9d0583fda4808",
   "outputs": [
    {
     "data": {
      "text/plain": [
       "<Figure size 600x300 with 1 Axes>"
      ],
      "image/png": "[encoded data removed]"
     },
     "metadata": {},
     "output_type": "display_data"
    }
   ],
   "execution_count": 75
  },
  {
   "metadata": {},
   "cell_type": "markdown",
   "source": [
    "Auffälligkeiten:\n",
    "- Im Plot ist zu erkennen, dass die Einträge zwischen 7:00 Uhr und 18:00 ähnlich sind."
   ],
   "id": "fbc23fb23eb5d93f"
  },
  {
   "metadata": {},
   "cell_type": "markdown",
   "source": "## Kraftstoffe",
   "id": "a1f6d6da6d26fa15"
  },
  {
   "metadata": {
    "ExecuteTime": {
     "end_time": "2025-09-01T14:52:05.585323Z",
     "start_time": "2025-09-01T14:52:04.844449Z"
    }
   },
   "cell_type": "code",
   "source": [
    "# Quelle: https://seaborn.pydata.org/generated/seaborn.boxplot.html\n",
    "plt.figure(figsize=(6, 3))\n",
    "sns.boxplot(data=df[['e5', 'e10', 'diesel']])\n",
    "\n",
    "plt.title('Boxplots mit E5, E10 und Diesel')\n",
    "plt.ylabel('Preis')\n",
    "plt.show()\n",
    "plt.close()"
   ],
   "id": "b280c3f8a4a67ecb",
   "outputs": [
    {
     "data": {
      "text/plain": [
       "<Figure size 600x300 with 1 Axes>"
      ],
      "image/png": "[encoded data removed]"
     },
     "metadata": {},
     "output_type": "display_data"
    }
   ],
   "execution_count": 76
  },
  {
   "metadata": {},
   "cell_type": "markdown",
   "source": [
    "Auffälligkeiten\n",
    "- In dem Plot ist zu erkennen, dass alle Kraftstoffe Ausreißer nach oben und unten haben.\n",
    "    - Die unteren Ausreißer sind stärker verteilt.\n",
    "    - Die oberen Ausreißer sind nahe dem oberen Quantil.\n",
    "- Die Kraftstoffe haben ähnlich symetrische Preisverteilungen.\n",
    "    - Die Streuungen sind ähnlich verteilt.\n",
    "- Der Mittelwert von E5 ist am höchsten, dann E10 und am gerinster ist der Mittelwert von Diesel."
   ],
   "id": "ae5bcdc56bae75e3"
  },
  {
   "metadata": {},
   "cell_type": "markdown",
   "source": "### E5",
   "id": "5890e276f49db654"
  },
  {
   "metadata": {
    "ExecuteTime": {
     "end_time": "2025-09-01T14:52:05.659093Z",
     "start_time": "2025-09-01T14:52:05.651279Z"
    }
   },
   "cell_type": "code",
   "source": "print(df['e5'].describe())",
   "id": "b31950233a347c55",
   "outputs": [
    {
     "name": "stdout",
     "output_type": "stream",
     "text": [
      "count    73589.000000\n",
      "mean         1.768951\n",
      "std          0.097200\n",
      "min          0.609667\n",
      "25%          1.714000\n",
      "50%          1.774000\n",
      "75%          1.829000\n",
      "max          2.016500\n",
      "Name: e5, dtype: float64\n"
     ]
    }
   ],
   "execution_count": 77
  },
  {
   "metadata": {
    "ExecuteTime": {
     "end_time": "2025-09-01T14:52:05.748906Z",
     "start_time": "2025-09-01T14:52:05.721969Z"
    }
   },
   "cell_type": "code",
   "source": "print(df['e5'].count()- (df[df['e5'] > 1.0])['e5'].count())",
   "id": "8ccdd90d4c267f60",
   "outputs": [
    {
     "name": "stdout",
     "output_type": "stream",
     "text": [
      "308\n"
     ]
    }
   ],
   "execution_count": 78
  },
  {
   "metadata": {
    "ExecuteTime": {
     "end_time": "2025-09-01T14:52:05.831913Z",
     "start_time": "2025-09-01T14:52:05.793884Z"
    }
   },
   "cell_type": "code",
   "source": "print((df[df['e5'] > 1.0])['e5'].describe())",
   "id": "956c221c146ad316",
   "outputs": [
    {
     "name": "stdout",
     "output_type": "stream",
     "text": [
      "count    73281.000000\n",
      "mean         1.772584\n",
      "std          0.079489\n",
      "min          1.000063\n",
      "25%          1.715667\n",
      "50%          1.774000\n",
      "75%          1.829000\n",
      "max          2.016500\n",
      "Name: e5, dtype: float64\n"
     ]
    }
   ],
   "execution_count": 79
  },
  {
   "metadata": {
    "ExecuteTime": {
     "end_time": "2025-09-01T14:52:05.901145Z",
     "start_time": "2025-09-01T14:52:05.891628Z"
    }
   },
   "cell_type": "code",
   "source": [
    "print(f\"Die Tankstelle {df[df['e5'] < 1.0]['station_uuid'].unique()} hat E5 unter 1 €. \")\n",
    "print(f\"An {len(df[df['e5'] < 1.0]['date'].unique())} Tagen kommt es zu Preisen unter 1 €. Zum erstenmal am {df[df['e5'] < 1.0]['date'].unique().min()} und zum letzten mal am {df[df['e5'] < 1.0]['date'].unique().max()}\")"
   ],
   "id": "455d8a99c4a8fc2e",
   "outputs": [
    {
     "name": "stdout",
     "output_type": "stream",
     "text": [
      "Die Tankstelle ['2dbf6b64-a83d-4630-ad83-c16015b8efa4'] hat E5 unter 1 €. \n",
      "An 21 Tagen kommt es zu Preisen unter 1 €. Zum erstenmal am 2024-01-20 und zum letzten mal am 2024-04-03\n"
     ]
    }
   ],
   "execution_count": 80
  },
  {
   "metadata": {},
   "cell_type": "markdown",
   "source": [
    "Auffälligkeiten\n",
    "- E5 hat keine fehlenden Werte\n",
    "- Mittelwert 1,7690 €\n",
    "- Standardabweichung 0,0972 €, also eine geringe Streuung\n",
    "- Preise liegen zwischen 1,71 € und 1,83 €"
   ],
   "id": "6296ffaadda8a042"
  },
  {
   "metadata": {},
   "cell_type": "markdown",
   "source": "### E10",
   "id": "1133ba52f42af9c7"
  },
  {
   "metadata": {
    "ExecuteTime": {
     "end_time": "2025-09-01T14:52:05.941493Z",
     "start_time": "2025-09-01T14:52:05.935326Z"
    }
   },
   "cell_type": "code",
   "source": "print(df['e10'].describe())",
   "id": "4da4033842860284",
   "outputs": [
    {
     "name": "stdout",
     "output_type": "stream",
     "text": [
      "count    73589.000000\n",
      "mean         1.711247\n",
      "std          0.096017\n",
      "min          0.589667\n",
      "25%          1.659000\n",
      "50%          1.715667\n",
      "75%          1.769000\n",
      "max          1.956500\n",
      "Name: e10, dtype: float64\n"
     ]
    }
   ],
   "execution_count": 81
  },
  {
   "metadata": {
    "ExecuteTime": {
     "end_time": "2025-09-01T14:52:06.024555Z",
     "start_time": "2025-09-01T14:52:06.002912Z"
    }
   },
   "cell_type": "code",
   "source": "print(df['e10'].count()- (df[df['e10'] > 1.0])['e10'].count())",
   "id": "bd88103bb26e080f",
   "outputs": [
    {
     "name": "stdout",
     "output_type": "stream",
     "text": [
      "353\n"
     ]
    }
   ],
   "execution_count": 82
  },
  {
   "metadata": {
    "ExecuteTime": {
     "end_time": "2025-09-01T14:52:06.114631Z",
     "start_time": "2025-09-01T14:52:06.074574Z"
    }
   },
   "cell_type": "code",
   "source": "print((df[df['e10'] > 1.0])['e10'].describe())",
   "id": "aee8c678f6838e27",
   "outputs": [
    {
     "name": "stdout",
     "output_type": "stream",
     "text": [
      "count    73236.000000\n",
      "mean         1.715216\n",
      "std          0.077194\n",
      "min          1.000250\n",
      "25%          1.659000\n",
      "50%          1.716500\n",
      "75%          1.769000\n",
      "max          1.956500\n",
      "Name: e10, dtype: float64\n"
     ]
    }
   ],
   "execution_count": 83
  },
  {
   "metadata": {
    "ExecuteTime": {
     "end_time": "2025-09-01T14:52:06.164812Z",
     "start_time": "2025-09-01T14:52:06.155152Z"
    }
   },
   "cell_type": "code",
   "source": [
    "print(f\"Die Tankstelle {df[df['e10'] < 1.0]['station_uuid'].unique()} hat E10 unter 1 €. \")\n",
    "print(f\"An {len(df[df['e10'] < 1.0]['date'].unique())} Tagen kommt es zu Preisen unter 1 €. Zum erstenmal am {df[df['e10'] < 1.0]['date'].unique().min()} und zum letzten mal am {df[df['e10'] < 1.0]['date'].unique().max()}\")"
   ],
   "id": "ab402c7121e04c79",
   "outputs": [
    {
     "name": "stdout",
     "output_type": "stream",
     "text": [
      "Die Tankstelle ['2dbf6b64-a83d-4630-ad83-c16015b8efa4'] hat E10 unter 1 €. \n",
      "An 21 Tagen kommt es zu Preisen unter 1 €. Zum erstenmal am 2024-01-20 und zum letzten mal am 2024-04-03\n"
     ]
    }
   ],
   "execution_count": 84
  },
  {
   "metadata": {},
   "cell_type": "markdown",
   "source": [
    "Auffälligkeiten:\n",
    "- E10 ht keine fehlenden Werte\n",
    "- Mittelwert 1,71 €\n",
    "- Standardabweichung 0,096 €, also eine geringe Streuung\n",
    "- Preise liegen zwischen 1,66 € bis 1,77 €"
   ],
   "id": "8ff5078aff74bb56"
  },
  {
   "metadata": {},
   "cell_type": "markdown",
   "source": "### Diesel",
   "id": "d76e59ea42c75062"
  },
  {
   "metadata": {
    "ExecuteTime": {
     "end_time": "2025-09-01T14:52:06.199847Z",
     "start_time": "2025-09-01T14:52:06.193942Z"
    }
   },
   "cell_type": "code",
   "source": "print(df['diesel'].describe())",
   "id": "82e22e7cd01c31bd",
   "outputs": [
    {
     "name": "stdout",
     "output_type": "stream",
     "text": [
      "count    73589.000000\n",
      "mean         1.628707\n",
      "std          0.092175\n",
      "min          0.563000\n",
      "25%          1.574000\n",
      "50%          1.629000\n",
      "75%          1.684000\n",
      "max          1.881500\n",
      "Name: diesel, dtype: float64\n"
     ]
    }
   ],
   "execution_count": 85
  },
  {
   "metadata": {
    "ExecuteTime": {
     "end_time": "2025-09-01T14:52:06.254284Z",
     "start_time": "2025-09-01T14:52:06.235337Z"
    }
   },
   "cell_type": "code",
   "source": "print(df['diesel'].count()- (df[df['diesel'] > 1.0])['diesel'].count())",
   "id": "986abfce1f5eb0c9",
   "outputs": [
    {
     "name": "stdout",
     "output_type": "stream",
     "text": [
      "379\n"
     ]
    }
   ],
   "execution_count": 86
  },
  {
   "metadata": {
    "ExecuteTime": {
     "end_time": "2025-09-01T14:52:06.309910Z",
     "start_time": "2025-09-01T14:52:06.288168Z"
    }
   },
   "cell_type": "code",
   "source": "print((df[df['diesel'] > 1.0])['diesel'].describe())",
   "id": "4894777338a486eb",
   "outputs": [
    {
     "name": "stdout",
     "output_type": "stream",
     "text": [
      "count    73210.000000\n",
      "mean         1.632663\n",
      "std          0.074006\n",
      "min          1.000400\n",
      "25%          1.574000\n",
      "50%          1.631500\n",
      "75%          1.685667\n",
      "max          1.881500\n",
      "Name: diesel, dtype: float64\n"
     ]
    }
   ],
   "execution_count": 87
  },
  {
   "metadata": {
    "ExecuteTime": {
     "end_time": "2025-09-01T14:52:06.333800Z",
     "start_time": "2025-09-01T14:52:06.327516Z"
    }
   },
   "cell_type": "code",
   "source": [
    "print(f\"Die Tankstelle {df[df['diesel'] < 1.0]['station_uuid'].unique()} hat Dieselpreise unter 1 €. \")\n",
    "print(f\"An {len(df[df['diesel'] < 1.0]['date'].unique())} Tagen kommt es zu Preisen unter 1 €. Zum erstenmal am {df[df['diesel'] < 1.0]['date'].unique().min()} und zum letzten mal am {df[df['diesel'] < 1.0]['date'].unique().max()}\")"
   ],
   "id": "a3cd4fcec5995a49",
   "outputs": [
    {
     "name": "stdout",
     "output_type": "stream",
     "text": [
      "Die Tankstelle ['2dbf6b64-a83d-4630-ad83-c16015b8efa4'] hat Dieselpreise unter 1 €. \n",
      "An 21 Tagen kommt es zu Preisen unter 1 €. Zum erstenmal am 2024-01-20 und zum letzten mal am 2024-04-03\n"
     ]
    }
   ],
   "execution_count": 88
  },
  {
   "metadata": {},
   "cell_type": "markdown",
   "source": [
    "Auffälligkeiten\n",
    "- Diesel hat keine fehlenden Werte\n",
    "- Mittelwert 1,6287 €\n",
    "- Standardabweichung 0,0922 €, also eine geringe Streuung\n",
    "- Die meisten Preise liegen zwischen 1,57 € bis 1,68 €\n",
    "- Es gibt 379 Werte, bei denen der Dieselpreis unter 1 € liegt.\n",
    "    - Werte unter 1 € kommen von einer Tankstelle: 2dbf6b64-a83d-4630-ad83-c16015b8efa4\n",
    "- Bei Ausschluss der Ausreißer:\n",
    "    - Mittelwert 1,6327 €\n",
    "    - Standardabweichung 0,074 €\n",
    "    - Die meisten Preise liegen zwischen 1,57 € bis 1,69 €\n"
   ],
   "id": "bda8936aac3a0091"
  },
  {
   "metadata": {},
   "cell_type": "markdown",
   "source": "### dieselchange",
   "id": "ab735c8bacb307a5"
  },
  {
   "metadata": {
    "ExecuteTime": {
     "end_time": "2025-09-01T14:52:06.356479Z",
     "start_time": "2025-09-01T14:52:06.350816Z"
    }
   },
   "cell_type": "code",
   "source": "print(df['dieselchange'].value_counts(dropna=False))",
   "id": "4e6dd7de91cc4519",
   "outputs": [
    {
     "name": "stdout",
     "output_type": "stream",
     "text": [
      "dieselchange\n",
      "1.0    70260\n",
      "0.0     2703\n",
      "3.0      472\n",
      "2.0      154\n",
      "Name: count, dtype: int64\n"
     ]
    }
   ],
   "execution_count": 89
  },
  {
   "metadata": {},
   "cell_type": "markdown",
   "source": "### e5change",
   "id": "988bec1cba1ab49"
  },
  {
   "metadata": {
    "ExecuteTime": {
     "end_time": "2025-09-01T14:52:06.383577Z",
     "start_time": "2025-09-01T14:52:06.380445Z"
    }
   },
   "cell_type": "code",
   "source": "print(df['e5change'].value_counts(dropna=False))",
   "id": "3d391f2119f12c0e",
   "outputs": [
    {
     "name": "stdout",
     "output_type": "stream",
     "text": [
      "e5change\n",
      "1.0    71434\n",
      "0.0     1544\n",
      "3.0      472\n",
      "2.0      139\n",
      "Name: count, dtype: int64\n"
     ]
    }
   ],
   "execution_count": 90
  },
  {
   "metadata": {},
   "cell_type": "markdown",
   "source": "### e10change",
   "id": "ea0619927ace5339"
  },
  {
   "metadata": {
    "ExecuteTime": {
     "end_time": "2025-09-01T14:52:06.419748Z",
     "start_time": "2025-09-01T14:52:06.414898Z"
    }
   },
   "cell_type": "code",
   "source": "print(df['e10change'].value_counts(dropna=False))",
   "id": "eb28b7949f1a6cb5",
   "outputs": [
    {
     "name": "stdout",
     "output_type": "stream",
     "text": [
      "e10change\n",
      "1.0    71458\n",
      "0.0     1522\n",
      "3.0      472\n",
      "2.0      137\n",
      "Name: count, dtype: int64\n"
     ]
    }
   ],
   "execution_count": 91
  },
  {
   "metadata": {
    "ExecuteTime": {
     "end_time": "2025-09-01T14:52:06.898266Z",
     "start_time": "2025-09-01T14:52:06.443315Z"
    }
   },
   "cell_type": "code",
   "source": [
    "# Quelle: https://seaborn.pydata.org/generated/seaborn.countplot.html\n",
    "plt.figure(figsize=(8, 4))\n",
    "sns.countplot(\n",
    "    data=pd.melt(df, value_vars=['dieselchange', 'e5change', 'e10change'],\n",
    "                 var_name='Sorte', value_name='Change'),x='Change',hue='Sorte')\n",
    "plt.title(\"Verteilung der Preisänderungen\")\n",
    "plt.xlabel(\"Änderung (Change)\")\n",
    "plt.ylabel(\"Anzahl der Einträge\")\n",
    "plt.xticks(rotation=45)\n",
    "plt.tight_layout()\n",
    "plt.show()"
   ],
   "id": "38ad4e77f1c2c435",
   "outputs": [
    {
     "data": {
      "text/plain": [
       "<Figure size 800x400 with 1 Axes>"
      ],
      "image/png": "[encoded data removed]"
     },
     "metadata": {},
     "output_type": "display_data"
    }
   ],
   "execution_count": 92
  },
  {
   "metadata": {},
   "cell_type": "markdown",
   "source": [
    "Auffälligkeiten:\n",
    "- Im Plot ist zu erkennen, dass in den meisten Stunden hat eine Änderung je Sorte stattgefunden\n",
    "- Zu manchen Stunden ist keine Änderung vorgenommen worden und bei noch weniger drei Änderungen. Am seltesten wurden zwei Änderungen vorgenommen."
   ],
   "id": "aded677473017750"
  },
  {
   "metadata": {},
   "cell_type": "markdown",
   "source": "### postcode",
   "id": "1525578e4c0d57e2"
  },
  {
   "metadata": {
    "ExecuteTime": {
     "end_time": "2025-09-01T14:52:06.926571Z",
     "start_time": "2025-09-01T14:52:06.923016Z"
    }
   },
   "cell_type": "code",
   "source": "print(f\"Die Tankstellen liegen in den Postleitzahlen {df['post_code'].unique()}\")",
   "id": "e62a92341f2b5a9c",
   "outputs": [
    {
     "name": "stdout",
     "output_type": "stream",
     "text": [
      "Die Tankstellen liegen in den Postleitzahlen [32427 32429 32425 32423]\n"
     ]
    }
   ],
   "execution_count": 93
  },
  {
   "metadata": {
    "ExecuteTime": {
     "end_time": "2025-09-01T14:52:07.062292Z",
     "start_time": "2025-09-01T14:52:06.952162Z"
    }
   },
   "cell_type": "code",
   "source": [
    "# Quelle: https://seaborn.pydata.org/generated/seaborn.countplot.html\n",
    "plt.figure(figsize=(6, 3))\n",
    "sns.countplot(data=df, x=df['post_code'])\n",
    "\n",
    "plt.title(\"Tankstellen nach Postleitzahlen\")\n",
    "plt.xticks(rotation=90)\n",
    "plt.xlabel(\"Postleitzahl\")\n",
    "plt.ylabel(\"Anzahl der Einträge\")\n",
    "plt.tight_layout()\n",
    "plt.show()"
   ],
   "id": "e94af51fbb61a5e5",
   "outputs": [
    {
     "data": {
      "text/plain": [
       "<Figure size 600x300 with 1 Axes>"
      ],
      "image/png": "[encoded data removed]"
     },
     "metadata": {},
     "output_type": "display_data"
    }
   ],
   "execution_count": 94
  },
  {
   "metadata": {},
   "cell_type": "markdown",
   "source": [
    "Auffälligkeiten:\n",
    "- Die meisten Tankstellen sind in dem Gebiet 32427, die wenigsten in 32429"
   ],
   "id": "71c3cec1f6427c1f"
  },
  {
   "metadata": {},
   "cell_type": "markdown",
   "source": "### first_active",
   "id": "464dfc32ab6692cc"
  },
  {
   "metadata": {
    "ExecuteTime": {
     "end_time": "2025-09-01T14:52:07.111711Z",
     "start_time": "2025-09-01T14:52:07.097396Z"
    }
   },
   "cell_type": "code",
   "source": "print(df['first_active'].unique())",
   "id": "e8663474a75e0778",
   "outputs": [
    {
     "name": "stdout",
     "output_type": "stream",
     "text": [
      "['2014-03-18 16:45:31+01' '2016-01-19 00:00:01+01'\n",
      " '2016-01-24 00:00:01+01' '2019-06-19 23:30:07+02']\n"
     ]
    }
   ],
   "execution_count": 95
  },
  {
   "metadata": {
    "ExecuteTime": {
     "end_time": "2025-09-01T14:52:07.337982Z",
     "start_time": "2025-09-01T14:52:07.170430Z"
    }
   },
   "cell_type": "code",
   "source": [
    "# Quelle: https://seaborn.pydata.org/generated/seaborn.countplot.html\n",
    "plt.figure(figsize=(6, 3))\n",
    "sns.countplot(data=df, x=df['first_active'])\n",
    "\n",
    "plt.title(\"Tankstellen nach Postleitzahlen\")\n",
    "plt.xticks(rotation=90)\n",
    "plt.xlabel(\"First Active Datum\")\n",
    "plt.ylabel(\"Anzahl der Einträge\")\n",
    "plt.tight_layout()\n",
    "plt.show()"
   ],
   "id": "9bee78893a8f5239",
   "outputs": [
    {
     "data": {
      "text/plain": [
       "<Figure size 600x300 with 1 Axes>"
      ],
      "image/png": "[encoded data removed]"
     },
     "metadata": {},
     "output_type": "display_data"
    }
   ],
   "execution_count": 96
  },
  {
   "metadata": {},
   "cell_type": "markdown",
   "source": [
    "Auffälligkeiten:\n",
    "- Es gibt 4 verschiedene Werte, zu denen die Tankstellen zum ersten mal aktiv sind.\n",
    "- Fast alle Werte sind am 18.03.2014."
   ],
   "id": "aaef3b0befac9350"
  },
  {
   "metadata": {},
   "cell_type": "markdown",
   "source": "### longitude & latitude",
   "id": "1fc555a79cc14879"
  },
  {
   "metadata": {
    "ExecuteTime": {
     "end_time": "2025-09-01T14:52:07.361192Z",
     "start_time": "2025-09-01T14:52:07.353389Z"
    }
   },
   "cell_type": "code",
   "source": [
    "print(df['longitude'].describe())\n",
    "print(df['latitude'].describe())"
   ],
   "id": "b0418c428d91cf8f",
   "outputs": [
    {
     "name": "stdout",
     "output_type": "stream",
     "text": [
      "count    73589.000000\n",
      "mean         8.909475\n",
      "std          0.013325\n",
      "min          8.892210\n",
      "25%          8.901323\n",
      "50%          8.904580\n",
      "75%          8.915457\n",
      "max          8.938090\n",
      "Name: longitude, dtype: float64\n",
      "count    73589.000000\n",
      "mean        52.293928\n",
      "std          0.016252\n",
      "min         52.273804\n",
      "25%         52.282530\n",
      "50%         52.288800\n",
      "75%         52.303850\n",
      "max         52.333858\n",
      "Name: latitude, dtype: float64\n"
     ]
    }
   ],
   "execution_count": 97
  },
  {
   "metadata": {
    "ExecuteTime": {
     "end_time": "2025-09-01T14:52:07.462929Z",
     "start_time": "2025-09-01T14:52:07.380630Z"
    }
   },
   "cell_type": "code",
   "source": [
    "# Quelle: https://seaborn.pydata.org/generated/seaborn.scatterplot.html\n",
    "plt.figure(figsize=(4, 4))\n",
    "plt.scatter(df['longitude'], df['latitude'], alpha=0.5, s=10)\n",
    "plt.title(\"Geografische Verteilung der Standorte\")\n",
    "plt.xlabel(\"Längengrad\")\n",
    "plt.ylabel(\"Breitengrad\")\n",
    "plt.grid(True)\n",
    "plt.show()"
   ],
   "id": "f3e38a1ad0116e1b",
   "outputs": [
    {
     "data": {
      "text/plain": [
       "<Figure size 400x400 with 1 Axes>"
      ],
      "image/png": "[encoded data removed]"
     },
     "metadata": {},
     "output_type": "display_data"
    }
   ],
   "execution_count": 98
  },
  {
   "metadata": {},
   "cell_type": "markdown",
   "source": [
    "Auffälligkeiten:\n",
    "- Einer der Tankstellen hat einen deutlich niedrigeren Breitegrad\n",
    "- Drei Tankstellen haben einen etwas höheren Längengrad"
   ],
   "id": "c5adbb5f2508971b"
  },
  {
   "metadata": {
    "ExecuteTime": {
     "end_time": "2025-09-01T14:52:07.476471Z",
     "start_time": "2025-09-01T14:52:07.475143Z"
    }
   },
   "cell_type": "code",
   "source": "",
   "id": "6fd51e43937eb6aa",
   "outputs": [],
   "execution_count": null
  }
 ],
 "metadata": {
  "kernelspec": {
   "display_name": "Python 3",
   "language": "python",
   "name": "python3"
  },
  "language_info": {
   "codemirror_mode": {
    "name": "ipython",
    "version": 2
   },
   "file_extension": ".py",
   "mimetype": "text/x-python",
   "name": "python",
   "nbconvert_exporter": "python",
   "pygments_lexer": "ipython2",
   "version": "2.7.6"
  }
 },
 "nbformat": 4,
 "nbformat_minor": 5
}
