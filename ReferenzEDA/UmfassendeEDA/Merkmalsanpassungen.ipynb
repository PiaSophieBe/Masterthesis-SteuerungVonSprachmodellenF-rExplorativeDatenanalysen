{
 "cells": [
  {
   "cell_type": "code",
   "id": "initial_id",
   "metadata": {
    "collapsed": true,
    "ExecuteTime": {
     "end_time": "2025-09-01T14:53:56.056091Z",
     "start_time": "2025-09-01T14:53:56.050321Z"
    }
   },
   "source": [
    ""
   ],
   "outputs": [],
   "execution_count": null
  },
  {
   "metadata": {
    "ExecuteTime": {
     "end_time": "2025-09-01T14:53:56.077613Z",
     "start_time": "2025-09-01T14:53:56.065467Z"
    }
   },
   "cell_type": "code",
   "source": [
    "import pandas as pd\n",
    "import matplotlib.pyplot as plt\n",
    "import seaborn as sns\n",
    "import matplotlib.dates as mdates\n",
    "import numpy as np"
   ],
   "id": "26a804da37aea96b",
   "outputs": [],
   "execution_count": 8
  },
  {
   "metadata": {
    "ExecuteTime": {
     "end_time": "2025-09-01T14:53:56.404069Z",
     "start_time": "2025-09-01T14:53:56.126267Z"
    }
   },
   "cell_type": "code",
   "source": "df = pd.read_csv('../Loading/df_PreiseStationen.csv')",
   "id": "96f18ec397c17fbb",
   "outputs": [
    {
     "name": "stderr",
     "output_type": "stream",
     "text": [
      "/var/folders/_9/fyqnr96j0q7_tlytmj22wy8c0000gn/T/ipykernel_80697/2813724428.py:1: DtypeWarning: Columns (12) have mixed types. Specify dtype option on import or set low_memory=False.\n",
      "  df = pd.read_csv('../Loading/df_PreiseStationen.csv')\n"
     ]
    }
   ],
   "execution_count": 9
  },
  {
   "metadata": {},
   "cell_type": "markdown",
   "source": "## Anpassung der Hausnummer",
   "id": "eb9820926b77f6b5"
  },
  {
   "metadata": {
    "ExecuteTime": {
     "end_time": "2025-09-01T14:53:56.527450Z",
     "start_time": "2025-09-01T14:53:56.435876Z"
    }
   },
   "cell_type": "code",
   "source": [
    "def clean_house_number(val):\n",
    "    if isinstance(val, str) and val.replace('.', '').isdigit():\n",
    "        return str(int(float(val)))\n",
    "    return None\n",
    "\n",
    "df['house_number'] = df['house_number'].astype(str).apply(clean_house_number)\n",
    "df['street'] = df['street'].str.replace(r'\\s*\\d+[a-zA-Z]?\\s*$', '', regex=True)\n",
    "df['house_number'] = df['house_number'].fillna('22')"
   ],
   "id": "d1e08fdcc7999d7a",
   "outputs": [],
   "execution_count": 10
  },
  {
   "metadata": {},
   "cell_type": "markdown",
   "source": "## Anpassung der Öffnungszeiten",
   "id": "14afa11f5be0b404"
  },
  {
   "metadata": {
    "ExecuteTime": {
     "end_time": "2025-09-01T14:53:56.578170Z",
     "start_time": "2025-09-01T14:53:56.554926Z"
    }
   },
   "cell_type": "code",
   "source": [
    "df['start_time'] = df['start_time'].fillna('00:00')\n",
    "df['end_time'] = df['end_time'].fillna('23:59')"
   ],
   "id": "82ee7b1fd13f67",
   "outputs": [],
   "execution_count": 11
  },
  {
   "metadata": {},
   "cell_type": "markdown",
   "source": "## Anpassung der Straßen",
   "id": "ce254d2ff1a101d1"
  },
  {
   "metadata": {
    "ExecuteTime": {
     "end_time": "2025-09-01T14:53:56.600315Z",
     "start_time": "2025-09-01T14:53:56.591322Z"
    }
   },
   "cell_type": "code",
   "source": "df['street'].unique()",
   "id": "4f253b31526d5d20",
   "outputs": [
    {
     "data": {
      "text/plain": [
       "array(['Königstraße', 'Portastraße', 'Marienstraße', 'Stiftsallee',\n",
       "       'Lübbecker Str.', 'Kutenhauser Dorfstr.', 'Viktoriastraße',\n",
       "       'Stiftstr.', 'Ringstrasse', 'Friedrich-Wilhelm-Str.',\n",
       "       'Ringstraße ', 'Friedrich-Wilhelm-Str. '], dtype=object)"
      ]
     },
     "execution_count": 12,
     "metadata": {},
     "output_type": "execute_result"
    }
   ],
   "execution_count": 12
  },
  {
   "metadata": {
    "ExecuteTime": {
     "end_time": "2025-09-01T14:53:56.705610Z",
     "start_time": "2025-09-01T14:53:56.624745Z"
    }
   },
   "cell_type": "code",
   "source": [
    "df['street'] = df['street'].str.replace(r'strasse', 'straße', regex=True)\n",
    "df['street'] = df['street'].str.replace(r'Str.', 'Straße', regex=True)\n",
    "df['street'] = df['street'].str.replace(r'Dorfstr.', 'Dorfstraße', regex=True)\n",
    "df['street'] = df['street'].str.replace(r'Stiftstr.', 'Stiftstraße', regex=True)\n",
    "df['street'] = df['street'].str.replace(r'aße ', 'aße', regex=True)"
   ],
   "id": "7fbafcc30a7d68d3",
   "outputs": [],
   "execution_count": 13
  },
  {
   "metadata": {
    "ExecuteTime": {
     "end_time": "2025-09-01T14:53:57.266049Z",
     "start_time": "2025-09-01T14:53:56.716352Z"
    }
   },
   "cell_type": "code",
   "source": "df.to_csv('df_PreiseStationenAngepasst.csv')",
   "id": "9a69ce9b9d768981",
   "outputs": [],
   "execution_count": 14
  },
  {
   "metadata": {
    "ExecuteTime": {
     "end_time": "2025-09-01T14:53:57.278194Z",
     "start_time": "2025-09-01T14:53:57.276974Z"
    }
   },
   "cell_type": "code",
   "source": "",
   "id": "518e183f5c60b545",
   "outputs": [],
   "execution_count": null
  }
 ],
 "metadata": {
  "kernelspec": {
   "display_name": "Python 3",
   "language": "python",
   "name": "python3"
  },
  "language_info": {
   "codemirror_mode": {
    "name": "ipython",
    "version": 2
   },
   "file_extension": ".py",
   "mimetype": "text/x-python",
   "name": "python",
   "nbconvert_exporter": "python",
   "pygments_lexer": "ipython2",
   "version": "2.7.6"
  }
 },
 "nbformat": 4,
 "nbformat_minor": 5
}
